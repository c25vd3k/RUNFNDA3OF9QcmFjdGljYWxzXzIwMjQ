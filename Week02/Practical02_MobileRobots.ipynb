{
 "cells": [
  {
   "cell_type": "markdown",
   "id": "2c8e4d07",
   "metadata": {
    "cell_id": "6ae32193-363c-4eb9-97e1-2ac4c3f5544c",
    "deepnote_cell_height": 82,
    "deepnote_cell_type": "markdown"
   },
   "source": [
    "# Practical 2: Mobile Robots"
   ]
  },
  {
   "cell_type": "markdown",
   "id": "aba9a8bc",
   "metadata": {
    "cell_id": "00002-78c07403-9f63-4ee3-b384-0fd519a374dc",
    "deepnote_cell_height": 52.399993896484375,
    "deepnote_cell_type": "markdown"
   },
   "source": [
    "We will import the libraries in the following blocks."
   ]
  },
  {
   "cell_type": "code",
   "execution_count": null,
   "id": "0c50c806",
   "metadata": {
    "cell_id": "00003-efe83397-884a-452e-add2-b45e3eeb2dbc",
    "deepnote_cell_height": 153,
    "deepnote_cell_type": "code",
    "deepnote_to_be_reexecuted": false,
    "execution_millis": 568,
    "execution_start": 1658109831714,
    "source_hash": "781e1a36"
   },
   "outputs": [],
   "source": [
    "from Practical02_Support.Renderer import *\n",
    "import ipywidgets as widgets\n",
    "import numpy as np\n",
    "\n",
    "from ece4078.Utility import StartMeshcat"
   ]
  },
  {
   "cell_type": "code",
   "execution_count": null,
   "id": "d77b69ec",
   "metadata": {
    "cell_id": "d382f5c0a9794641901bbf89b018e999",
    "deepnote_cell_height": 182.39999389648438,
    "deepnote_cell_type": "code",
    "deepnote_output_heights": [
     null,
     21
    ],
    "deepnote_to_be_reexecuted": false,
    "execution_millis": 658,
    "execution_start": 1658109834848,
    "source_hash": "34afddb1",
    "tags": []
   },
   "outputs": [],
   "source": [
    "vis = StartMeshcat()"
   ]
  },
  {
   "cell_type": "markdown",
   "id": "04c7d48e",
   "metadata": {
    "cell_id": "00004-50c4f123-991f-4edf-85d2-95f716884b18",
    "deepnote_cell_height": 179.1999969482422,
    "deepnote_cell_type": "markdown"
   },
   "source": [
    "# 1. Bicycle Kinematic Model\n",
    "\n",
    "The configuration (also known as state) of the bycycle is descibed by its 2D position and orientation, i.e., $(x, y, \\theta)$. The control inputs are the speed at the rear wheel and the steering angle at the front wheel, i.e., $(v, \\delta)$\n",
    "\n",
    "In the following we implement the bicycle kinematic model and show how its motion is described in the world frame."
   ]
  },
  {
   "cell_type": "code",
   "execution_count": null,
   "id": "c982f49c",
   "metadata": {
    "cell_id": "00005-3b5bc8ae-b374-4222-a416-b35bc2a8a5ac",
    "deepnote_cell_height": 945,
    "deepnote_cell_type": "code",
    "deepnote_to_be_reexecuted": false,
    "execution_millis": 1,
    "execution_start": 1658109839469,
    "source_hash": "c87a10c2"
   },
   "outputs": [],
   "source": [
    "class Bicycle(bot2D):\n",
    "    \"\"\"Implementation of the kinematic bicycle model (rear wheel model)\n",
    "    length = distance (in meters) between the wheels\n",
    "    gamma_max = maximum steering angle\n",
    "    speed_max = maximum speed\n",
    "    \"\"\"\n",
    "\n",
    "    def __init__(self, length=1, delta_max=np.pi/3, vel_max=5):\n",
    "        super().__init__()\n",
    "        \n",
    "        # Length between the wheels\n",
    "        self.length = length\n",
    "        \n",
    "        # Maximum velocity and steering angle\n",
    "        self.delta_max = delta_max\n",
    "        self.vel_max = vel_max\n",
    "        \n",
    "        # Initial control inputs\n",
    "        self.velocity = 0\n",
    "        self.delta = 0\n",
    "        \n",
    "    def update_control(self, v, delta):\n",
    "        self.velocity = np.clip(v, -self.vel_max, self.vel_max)\n",
    "        self.delta = np.clip(delta, -self.delta_max, self.delta_max)\n",
    "        \n",
    "    def drive(self, dt=0.01):\n",
    "        \"\"\"\n",
    "        Update the bicycle's state.\n",
    "        \"\"\"        \n",
    "        # Compute velocity using control input and current orientation\n",
    "        v_x = self.velocity * np.cos(self.theta)\n",
    "        v_y = self.velocity * np.sin(self.theta)\n",
    "        \n",
    "        # Compute next position\n",
    "        next_x = self.x + v_x * dt\n",
    "        next_y = self.y + v_y * dt\n",
    "                \n",
    "        # Compute angular velocity given control input (velocity and\n",
    "        # steering angle)\n",
    "        omega = self.velocity * np.tan(self.delta) / self.length\n",
    "        \n",
    "        # Compute next orientation\n",
    "        next_theta = self.theta + omega * dt\n",
    "        self.set_state(next_x, next_y, next_theta)\n",
    "        \n",
    "    def reset(self):\n",
    "        super().reset()\n",
    "        self.velocity = 0\n",
    "        self.delta = 0"
   ]
  },
  {
   "cell_type": "markdown",
   "id": "560be3ec",
   "metadata": {
    "cell_id": "00006-770a93be-878e-45f2-bb06-1bf82d903344",
    "deepnote_cell_height": 170.1999969482422,
    "deepnote_cell_type": "markdown"
   },
   "source": [
    "## Lets now test driving the bicycle\n",
    "- Use the slider to adjust the velocity and steering angle. \n",
    "- Currently the animation will play for 180 frames. You can adjust this number by providing the `max_iterations` argument to the function call `rend.initialize(bot, max_iterations=[integer])`"
   ]
  },
  {
   "cell_type": "code",
   "execution_count": null,
   "id": "9f442979",
   "metadata": {
    "cell_id": "00007-c4d61042-1b41-483b-9c69-e7191198b5f5",
    "deepnote_cell_height": 369,
    "deepnote_cell_type": "code",
    "deepnote_to_be_reexecuted": false,
    "execution_millis": 8,
    "execution_start": 1658109884636,
    "source_hash": "ab8ca805"
   },
   "outputs": [],
   "source": [
    "max_iterations = 180\n",
    "max_vel = 5         # robot's maximum velocity\n",
    "max_delta = np.pi/3 # robot's maximum steering angle\n",
    "bike_length = 0.25  # create a bicycle with .25 m between the rear and front wheel\n",
    "robot_start_x = -2.8 # robot's starting x position\n",
    "robot_start_y = -2.8 # robot's starting y position\n",
    "robot_start_theta = np.pi/6 # robot's starting orientation\n",
    "time_step = 0.05\n",
    "\n",
    "vis.delete()\n",
    "vis.Set2DView(scale = 5)\n",
    "vis.mask_origin()\n",
    "bot = Bicycle(bike_length, max_delta, max_vel)\n",
    "bot.set_state(robot_start_x, robot_start_y, robot_start_theta)\n",
    "\n",
    "rend = Renderer.Instance()\n",
    "rend.initialize(vis, bot, dt=time_step, max_iterations=max_iterations, realtime = True)\n",
    "rend.spawn_robot()"
   ]
  },
  {
   "cell_type": "code",
   "execution_count": null,
   "id": "e6b48175",
   "metadata": {
    "cell_id": "00008-2795064b-0532-4928-98ab-fa8e9888fa48",
    "deepnote_cell_height": 351,
    "deepnote_cell_type": "code",
    "deepnote_to_be_reexecuted": false,
    "execution_millis": 35,
    "execution_start": 1658109935717,
    "output_cleared": true,
    "source_hash": "d45613e8"
   },
   "outputs": [],
   "source": [
    "v_slider = widgets.FloatSlider(value=0, min=-max_vel, max=max_vel, step=0.1, \n",
    "                               description=r'Velocity (v)', readout_format='.1f')\n",
    "delta_slider = widgets.FloatSlider(value=0, min=-max_delta, max=max_delta, step=0.05,\n",
    "                                   description=r'Angle (delta)', readout_format='.1f')\n",
    "ui = widgets.HBox([v_slider, delta_slider])\n",
    "control_widgets = widgets.interactive_output(bot.update_control, {'v': v_slider, 'delta': delta_slider})\n",
    "display(ui, control_widgets)\n",
    "\n",
    "rend.show_control_panel()\n",
    "def reset_bicycle(b = None):\n",
    "    rend.reset()\n",
    "    v_slider.value = 0\n",
    "    delta_slider.value = 0\n",
    "rend.btn_reset.on_click(reset_bicycle)\n",
    "rend.start_render_loop()\n",
    "display(vis.show_inline(height = 500))"
   ]
  },
  {
   "cell_type": "markdown",
   "id": "16289d1a",
   "metadata": {
    "cell_id": "00009-c77d42d5-bc2c-4002-ae9b-9ee715cfd979",
    "deepnote_cell_height": 688.2000122070312,
    "deepnote_cell_type": "markdown"
   },
   "source": [
    "# 2. PenguinPi Kinematic Model\n",
    "\n",
    "<img src=https://i.postimg.cc/MGKJr92G/TvZ7gVN.jpg width=\"340\" height=\"300\">\n",
    "\n",
    "\n",
    "The state of the robot is described by its 2D position $(x,y)$  and orientation $\\theta$. Our control inputs are the linear and angular velocity of the robot, i.e., $v$ and $\\omega$. \n",
    "\n",
    "We will define the <code>drive(self, dt=0.02)</code> function that will update the state of the robot given a sequence of control inputs.\n",
    "\n",
    "**Interaction**\n",
    "- Move the sliders to change the control inputs\n",
    "\n",
    "**TODO**\n",
    "- Verify code correctness \n",
    "- Complete the code that makes the robot turn"
   ]
  },
  {
   "cell_type": "code",
   "execution_count": null,
   "id": "69e54ea2",
   "metadata": {
    "cell_id": "00010-15a48056-abe3-4928-9d1d-91caf36e26c7",
    "deepnote_cell_height": 873,
    "deepnote_cell_type": "code",
    "deepnote_to_be_reexecuted": false,
    "execution_millis": 0,
    "execution_start": 1658110042071,
    "source_hash": "25ad724d"
   },
   "outputs": [],
   "source": [
    "class PenguinPi(bot2D):\n",
    "\n",
    "    def __init__(self, max_v=5, max_omega=np.pi):\n",
    "        super().__init__()\n",
    "        \n",
    "        # Control inputs\n",
    "        self.linear_velocity = 0\n",
    "        self.angular_velocity = 0\n",
    "        \n",
    "        # Control input bounds\n",
    "        self.max_linear_velocity = max_v\n",
    "        self.max_angular_velocity = max_omega\n",
    "        \n",
    "    def update_control(self, linear_v, angular_v):\n",
    "        # We read the values from the sliders and update the robot's linear and angular velocity\n",
    "        self.linear_velocity = np.clip(linear_v, -self.max_linear_velocity, self.max_linear_velocity)\n",
    "        self.angular_velocity = np.clip(angular_v, -self.max_angular_velocity , self.max_angular_velocity)\n",
    "        \n",
    "    def drive(self, dt=0.02):\n",
    "        \"\"\"\n",
    "         Update the PenguiPi state\n",
    "        \"\"\"        \n",
    "\n",
    "        # Remember that the PenguiPi current state is given by self.x, self.y, self.theta        \n",
    "        # Apply the velocities\n",
    "        if self.angular_velocity == 0:\n",
    "\n",
    "            next_x = self.x - np.cos(self.theta)*self.linear_velocity*dt\n",
    "            next_y = self.y + np.sin(self.theta)*self.linear_velocity*dt\n",
    "            next_theta = self.theta\n",
    "        else:\n",
    "            #TODO: Complete code that make the robot turn-----------------------------\n",
    "            R = 0\n",
    "            next_theta = self.theta\n",
    "            next_x = self.x\n",
    "            next_y = self.y\n",
    "            #ENDTODO ------------------------------------------------------------------\n",
    "\n",
    "        # Make next state our current state\n",
    "        self.set_state(next_x, next_y, next_theta) \n",
    "        \n",
    "    def reset(self):\n",
    "        super().reset()\n",
    "        self.linear_velocity = 0\n",
    "        self.angular_velocity = 0"
   ]
  },
  {
   "cell_type": "markdown",
   "id": "f66ce11e",
   "metadata": {
    "cell_id": "00011-acc3b021-5990-4dc0-a9cb-0dda6b3550ee",
    "deepnote_cell_height": 170.1999969482422,
    "deepnote_cell_type": "markdown"
   },
   "source": [
    "## Lets now test driving the PenguiPi\n",
    "- Use the slider to adjust the velocity and steering angle\n",
    "- Currently the animation will play for 180 frames. You can adjust this number by providing the ```max_iterations``` argument to the function call ```rend.initialize(bot, max_iterations=[integer])```"
   ]
  },
  {
   "cell_type": "code",
   "execution_count": null,
   "id": "5043dee8",
   "metadata": {
    "cell_id": "00012-7d0efca4-b56a-4d54-8f96-7950668efdb3",
    "deepnote_cell_height": 351,
    "deepnote_cell_type": "code",
    "deepnote_to_be_reexecuted": false,
    "execution_millis": 6,
    "execution_start": 1658110045526,
    "source_hash": "d3bb590f"
   },
   "outputs": [],
   "source": [
    "max_iterations = 180 # maximum number of animation frames\n",
    "max_linear_vel = 5\n",
    "max_angular_vel = np.pi\n",
    "pibot_start_x = -3.0 # pibot's starting x position\n",
    "pibot_start_y = -3.0 # pibot's starting y position\n",
    "pibot_start_theta = np.pi/6 # pibot's starting orientation\n",
    "time_step = 0.05\n",
    "\n",
    "vis.delete()\n",
    "vis.Set2DView(scale = 5)\n",
    "vis.mask_origin()\n",
    "pi_bot = PenguinPi(max_linear_vel, max_angular_vel)\n",
    "pi_bot.set_state(pibot_start_x, pibot_start_y, pibot_start_theta)\n",
    "\n",
    "rend = Renderer.Instance()\n",
    "rend.initialize(vis, pi_bot, dt=time_step, max_iterations=max_iterations, realtime = True)\n",
    "rend.spawn_robot()"
   ]
  },
  {
   "cell_type": "code",
   "execution_count": null,
   "id": "304617b6",
   "metadata": {
    "cell_id": "00013-965feaa2-79c1-4e24-9cc5-c4bb7bf3feba",
    "deepnote_cell_height": 369,
    "deepnote_cell_type": "code",
    "deepnote_to_be_reexecuted": false,
    "editable": true,
    "execution_millis": 46,
    "execution_start": 1658110055273,
    "output_cleared": true,
    "owner_user_id": "39e5588c-373b-434e-8bfa-8e48976ef92a",
    "slideshow": {
     "slide_type": ""
    },
    "source_hash": "2534c128",
    "tags": []
   },
   "outputs": [],
   "source": [
    "linear_slider = widgets.FloatSlider(value=0, min=-max_linear_vel, max=max_linear_vel, step=0.1, \n",
    "                                    description=r'v', readout_format='.1f')\n",
    "angular_slider = widgets.FloatSlider(value=0, min=-max_angular_vel, max=max_angular_vel, step=0.1,\n",
    "                                     description=r'omega', readout_format='.1f')\n",
    "ui = widgets.HBox([linear_slider, angular_slider])\n",
    "control_widgets = widgets.interactive_output(\n",
    "    pi_bot.update_control, {'linear_v': linear_slider, 'angular_v': angular_slider})\n",
    "display(ui, control_widgets)\n",
    "\n",
    "rend.show_control_panel()\n",
    "def reset_penguinpi(b = None):\n",
    "    rend.reset()\n",
    "    linear_slider.value = 0\n",
    "    angular_slider.value = 0\n",
    "rend.btn_reset.on_click(reset_penguinpi)\n",
    "rend.start_render_loop()\n",
    "display(vis.show_inline())"
   ]
  }
 ],
 "metadata": {
  "deepnote": {},
  "deepnote_execution_queue": [],
  "deepnote_notebook_id": "ce6cb62f-39f8-4ec4-8546-4c1e6530507c",
  "kernelspec": {
   "display_name": "Python 3 (ipykernel)",
   "language": "python",
   "name": "python3"
  },
  "language_info": {
   "codemirror_mode": {
    "name": "ipython",
    "version": 3
   },
   "file_extension": ".py",
   "mimetype": "text/x-python",
   "name": "python",
   "nbconvert_exporter": "python",
   "pygments_lexer": "ipython3",
   "version": "3.8.10"
  }
 },
 "nbformat": 4,
 "nbformat_minor": 5
}
