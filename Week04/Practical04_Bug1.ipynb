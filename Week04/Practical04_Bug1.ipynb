{
 "cells": [
  {
   "cell_type": "markdown",
   "metadata": {
    "cell_id": "f5464222-30ef-480d-b965-feb4e600e189",
    "deepnote_cell_height": 194.8000030517578,
    "deepnote_cell_type": "markdown"
   },
   "source": [
    "# Practical 04 - Bug1"
   ]
  },
  {
   "cell_type": "code",
   "execution_count": null,
   "metadata": {
    "cell_id": "00002-1cd54c83-a830-458e-95e9-67e815c63ecc",
    "deepnote_cell_height": 171,
    "deepnote_cell_type": "code",
    "deepnote_to_be_reexecuted": false,
    "execution_millis": 3,
    "execution_start": 1658110595687,
    "source_hash": "c129aa7c"
   },
   "outputs": [],
   "source": [
    "from Practical04_Support.Obstacle import *\n",
    "from Practical04_Support.path_animation import *\n",
    "import meshcat.geometry as g\n",
    "import meshcat.transformations as tf\n",
    "\n",
    "from ece4078.Utility import StartMeshcat\n",
    "from shapely import geometry"
   ]
  },
  {
   "cell_type": "code",
   "execution_count": null,
   "metadata": {
    "cell_id": "3747348206224bf9a780e3ce136f573d",
    "deepnote_cell_height": 182.39999389648438,
    "deepnote_cell_type": "code",
    "deepnote_output_heights": [
     null,
     21
    ],
    "deepnote_to_be_reexecuted": false,
    "execution_millis": 26,
    "execution_start": 1658110597533,
    "source_hash": "34afddb1",
    "tags": []
   },
   "outputs": [],
   "source": [
    "vis = StartMeshcat()"
   ]
  },
  {
   "cell_type": "code",
   "execution_count": null,
   "metadata": {
    "cell_id": "00004-4149210f-5d3c-4b6f-9f87-50257cb76e9c",
    "deepnote_cell_height": 441,
    "deepnote_cell_type": "code",
    "deepnote_to_be_reexecuted": false,
    "execution_millis": 1,
    "execution_start": 1658110600495,
    "source_hash": "650a3f7f"
   },
   "outputs": [],
   "source": [
    "# Helper functions\n",
    "def find_closest_obstacle(position, obstacle_list, ccw):\n",
    "    results = [obs.compute_distance_point_to_polygon(position, ccw) for obs in obstacle_list]\n",
    "    closest_obs = np.argmin([v[0] for v in results])\n",
    "    return obstacle_list[closest_obs], results[closest_obs]\n",
    "\n",
    "def has_reached_goal(current_pos, goal, step_size):\n",
    "    if compute_distance_between_points(current_pos, goal) > step_size:\n",
    "        return False\n",
    "    return True\n",
    "\n",
    "def move_towards_goal(current_pos, goal_pos, step_size):\n",
    "    direction_to_goal = get_direction_from_points(current_pos, goal_pos)\n",
    "    next_position = current_pos + step_size * direction_to_goal\n",
    "    return next_position\n",
    "\n",
    "def is_about_to_hit_obstacle(next_pos, obstacle_list, step_size, ccw):\n",
    "    obs, (_, _) = find_closest_obstacle(next_pos, obstacle_list, ccw)\n",
    "    point = geometry.Point(next_pos)\n",
    "    polygon = geometry.Polygon(obs.vertices)\n",
    "    if point.within(polygon) or point.touches(point):\n",
    "        return True\n",
    "    else:\n",
    "        return False"
   ]
  },
  {
   "cell_type": "markdown",
   "metadata": {
    "cell_id": "00005-e4cf9e23-6270-4794-8d83-f02ad20b5261",
    "deepnote_cell_height": 130.8000030517578,
    "deepnote_cell_type": "markdown"
   },
   "source": [
    "This is the implementation of Bug 1\n",
    "\n",
    "![title](https://i.postimg.cc/GthKKTdN/VdNT8c0.png)"
   ]
  },
  {
   "cell_type": "code",
   "execution_count": null,
   "metadata": {
    "cell_id": "00006-7c215e21-d4e7-498a-b307-7227f3f141d1",
    "deepnote_cell_height": 1323,
    "deepnote_cell_type": "code",
    "deepnote_to_be_reexecuted": false,
    "execution_millis": 11,
    "execution_start": 1658110603845,
    "source_hash": "527a0f1f"
   },
   "outputs": [],
   "source": [
    "# Implement Bug1 Algorithm\n",
    "def bug1_algorithm(goal_pos,initial_robot_pos,robot_step_size,obstacles,ccw):\n",
    "    # Start algorithm\n",
    "    robot_path = [initial_robot_pos]\n",
    "    current_robot_pos = initial_robot_pos \n",
    "    robot_to_goal_line = compute_line_through_points(current_robot_pos, goal_pos)\n",
    "\n",
    "    # While goal not reached\n",
    "    while not has_reached_goal(current_robot_pos, goal_pos, robot_step_size):\n",
    "\n",
    "        # Move towards goal\n",
    "        next_robot_pos = move_towards_goal(current_robot_pos, goal_pos, robot_step_size)\n",
    "        hit_point = np.copy(next_robot_pos)\n",
    "\n",
    "        if is_about_to_hit_obstacle(next_robot_pos, obstacles, robot_step_size, ccw):\n",
    "            # Go back to current position\n",
    "            next_robot_pos = current_robot_pos\n",
    "            # Compute distance from hit point to goal        \n",
    "            boundary_points, goal_distances = [], []\n",
    "\n",
    "            while True:\n",
    "                closest_obs, (closest_obs_distance, obst_segment) = find_closest_obstacle(next_robot_pos,\n",
    "                                                                                         obstacles, ccw)\n",
    "                # Get direction along obstacle\n",
    "                direction_around_obstacle = closest_obs.compute_tangent_vector_to_polygon(next_robot_pos, \n",
    "                                                                                          obst_segment)\n",
    "                # Move along obstacle\n",
    "                next_robot_pos = next_robot_pos + robot_step_size * direction_around_obstacle\n",
    "                robot_path.append(next_robot_pos)\n",
    "\n",
    "                goal_distances.append(compute_distance_between_points(next_robot_pos, goal_pos))\n",
    "                boundary_points.append(next_robot_pos)\n",
    "\n",
    "                completed_tour = (compute_distance_between_points(hit_point, next_robot_pos) < robot_step_size)\n",
    "\n",
    "                if completed_tour:\n",
    "                    while True:\n",
    "                        idx_min_dist = np.argmin(goal_distances)\n",
    "\n",
    "                        # Find nearest_obstacle and start navigating around \n",
    "                        closest_obs, (closest_obs_distance, obst_segment) = find_closest_obstacle(next_robot_pos,\n",
    "                                                                                                 obstacles,ccw)\n",
    "                        # Get direction along obstacle\n",
    "                        direction_around_obstacle = closest_obs.compute_tangent_vector_to_polygon(next_robot_pos, \n",
    "                                                                                                  obst_segment)\n",
    "                        # Move along obstacle\n",
    "                        next_robot_pos = next_robot_pos + robot_step_size * direction_around_obstacle\n",
    "\n",
    "                        robot_path.append(next_robot_pos)\n",
    "\n",
    "                        # Stop getting around obstacle when we found point closest to goal:\n",
    "                        stop_getting_around = compute_distance_between_points(next_robot_pos,\n",
    "                                                                              goal_pos) <= goal_distances[idx_min_dist]\n",
    "\n",
    "                        if stop_getting_around:\n",
    "                            break\n",
    "                    break\n",
    "\n",
    "        # Update current state and add to path\n",
    "        current_robot_pos = next_robot_pos\n",
    "        robot_path.append(current_robot_pos)\n",
    "\n",
    "    path = np.array(robot_path)\n",
    "    return path"
   ]
  },
  {
   "cell_type": "code",
   "execution_count": null,
   "metadata": {
    "cell_id": "00007-c6168836-5cd5-4ed9-babf-4c113e65cc72",
    "deepnote_cell_height": 441,
    "deepnote_cell_type": "code",
    "deepnote_to_be_reexecuted": false,
    "execution_millis": 1115,
    "execution_start": 1658110607086,
    "source_hash": "ec4b2be3"
   },
   "outputs": [],
   "source": [
    "# Set parameters\n",
    "\n",
    "# # Order A\n",
    "goal_pos = [20.0, 10.0]\n",
    "initial_robot_pos = [30.0, 40.0]\n",
    "\n",
    "# # Order B\n",
    "# # Uncomment the next three lines to see the bug algorithm in reverse order\n",
    "# goal_pos = [30.0, 40.0]\n",
    "# initial_robot_pos = [20.0, 10.0]\n",
    "\n",
    "# Robot Step Size and turning behaviour (counter clockwise (ccw) or clockwise)\n",
    "robot_step_size = 0.2\n",
    "ccw = True\n",
    "\n",
    "# Obstacle configuration\n",
    "obstacle1 = Rectangle(origin=np.array([10, 20]), width=30, height=5)\n",
    "obstacle2 = Polygon(vertices= np.array([[20, 35], [35, 35], [35, 50], [40, 50],\n",
    "                                       [40, 30], [20, 30]]))\n",
    "obstacles = [obstacle1, obstacle2]\n",
    "\n",
    "path = bug1_algorithm(goal_pos,initial_robot_pos,robot_step_size,obstacles,ccw)\n",
    "steps = len(path)"
   ]
  },
  {
   "cell_type": "code",
   "execution_count": null,
   "metadata": {
    "cell_id": "00009-b3bfd6a7-a713-43cb-a614-c0199c002e33",
    "deepnote_cell_height": 721,
    "deepnote_cell_type": "code",
    "deepnote_to_be_reexecuted": false,
    "execution_millis": 10018,
    "execution_start": 1658110649186,
    "output_cleared": true,
    "owner_user_id": "39e5588c-373b-434e-8bfa-8e48976ef92a",
    "source_hash": "1ff8acb2"
   },
   "outputs": [],
   "source": [
    "thickness = 0.5\n",
    "robot_size = 0.5\n",
    "vis.delete()\n",
    "scale = 60\n",
    "vis.Set2DView(scale, center = [lim for lim in [-30, 60, 60, 0]])\n",
    "\n",
    "print(\"animating ...\")\n",
    "animate_path_bug(vis,initial_robot_pos,goal_pos,path,obstacles, robot_size, thickness, goal_line = False)\n",
    "\n",
    "import ipywidgets as widgets\n",
    "msg = widgets.HTML(f\"<big>Total of steps: {steps}</big>\")\n",
    "display(widgets.VBox([msg, vis.show_inline(height = 500)]))"
   ]
  }
 ],
 "metadata": {
  "deepnote": {},
  "deepnote_execution_queue": [],
  "deepnote_notebook_id": "6406130c-4a4a-4922-93ed-48c10481d705",
  "kernelspec": {
   "display_name": "Python 3 (ipykernel)",
   "language": "python",
   "name": "python3"
  },
  "language_info": {
   "codemirror_mode": {
    "name": "ipython",
    "version": 3
   },
   "file_extension": ".py",
   "mimetype": "text/x-python",
   "name": "python",
   "nbconvert_exporter": "python",
   "pygments_lexer": "ipython3",
   "version": "3.8.10"
  }
 },
 "nbformat": 4,
 "nbformat_minor": 4
}
