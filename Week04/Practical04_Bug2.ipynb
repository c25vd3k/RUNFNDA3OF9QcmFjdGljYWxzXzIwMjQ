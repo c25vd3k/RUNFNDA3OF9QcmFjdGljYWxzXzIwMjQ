{
 "cells": [
  {
   "cell_type": "markdown",
   "metadata": {
    "cell_id": "37fa9ff0-95df-4c99-8cbb-8f1ec5f2010d",
    "deepnote_cell_height": 82,
    "deepnote_cell_type": "markdown"
   },
   "source": [
    "# Practical 04 - Bug2"
   ]
  },
  {
   "cell_type": "code",
   "execution_count": null,
   "metadata": {
    "cell_id": "00002-e839116f-7ff5-47de-8033-ad86c217f075",
    "deepnote_cell_height": 189,
    "deepnote_cell_type": "code",
    "deepnote_to_be_reexecuted": false,
    "execution_millis": 619,
    "execution_start": 1658110396245,
    "source_hash": "b4d8a93f"
   },
   "outputs": [],
   "source": [
    "from Practical04_Support.Obstacle import *\n",
    "from Practical04_Support.path_animation import *\n",
    "\n",
    "import meshcat.geometry as g\n",
    "import meshcat.transformations as tf\n",
    "\n",
    "from ece4078.Utility import StartMeshcat\n",
    "from shapely import geometry"
   ]
  },
  {
   "cell_type": "code",
   "execution_count": null,
   "metadata": {
    "cell_id": "6263970291a3494989b63bfc05cb20a4",
    "deepnote_cell_height": 182.39999389648438,
    "deepnote_cell_type": "code",
    "deepnote_output_heights": [
     null,
     21
    ],
    "deepnote_to_be_reexecuted": false,
    "execution_millis": 9,
    "execution_start": 1658110398206,
    "source_hash": "34afddb1",
    "tags": []
   },
   "outputs": [],
   "source": [
    "vis = StartMeshcat()"
   ]
  },
  {
   "cell_type": "markdown",
   "metadata": {
    "cell_id": "00003-48e72a43-652b-465b-99f9-9fd4388b1f88",
    "deepnote_cell_height": 279.79998779296875,
    "deepnote_cell_type": "markdown"
   },
   "source": [
    "\n",
    "## Helper functions\n",
    "These are the helper functions used by Bug2 when looking for a path between the start and goal locations:\n",
    "\n",
    "- ``is_about_to_hit_obstacle(.)``, this method searches for the obstacle that is the closest to the robot and verifies whether the robot's touch sensor has been activated. This method depends on ``find_closest_obstacle(.)``.\n",
    "\n",
    "- ``go_back_to_goal(.)``, this method determines whether the robot should stop circumnavigating the obstacle and move towards the goal instead.\n",
    "\n",
    "- ``has_reached_goal(.)``, this method tells us whether the robot has reached the goal\n",
    "\n",
    "- ``move_towards_goal(.)``, this method moves the robot along the line that connects the start and goal positions"
   ]
  },
  {
   "cell_type": "code",
   "execution_count": null,
   "metadata": {
    "cell_id": "00004-1bc6af89-21cc-43ee-bed7-cc1c77974931",
    "deepnote_cell_height": 585,
    "deepnote_cell_type": "code",
    "deepnote_to_be_reexecuted": false,
    "execution_millis": 5,
    "execution_start": 1658110400419,
    "source_hash": "867d7f11"
   },
   "outputs": [],
   "source": [
    "# Helper functions\n",
    "def find_closest_obstacle(position, obstacle_list, ccw):\n",
    "    results = [obs.compute_distance_point_to_polygon(position, ccw) for obs in obstacle_list]\n",
    "    closest_obs = np.argmin([v[0] for v in results])\n",
    "    return obstacles[closest_obs], results[closest_obs]\n",
    "\n",
    "def has_reached_goal(current_pos, goal, step_size, tolerance):\n",
    "    if compute_distance_between_points(current_pos, goal) > step_size + tolerance:\n",
    "        return False\n",
    "    return True\n",
    "\n",
    "def move_towards_goal(current_pos, goal_line, goal_pos, initial_robot_pos, step_size):\n",
    "    direction_to_goal = get_direction_from_line(goal_line)\n",
    "    start_goal = np.array(goal_pos) - np.array(initial_robot_pos)\n",
    "    start_current = np.array(current_pos) - np.array(initial_robot_pos)\n",
    "    dir = 1 if np.linalg.norm(start_goal) > (np.dot(start_current, start_goal) / np.linalg.norm(start_goal)) else -1\n",
    "    next_position = current_pos + step_size * direction_to_goal * dir\n",
    "    return next_position\n",
    "\n",
    "\n",
    "def is_about_to_hit_obstacle(next_pos, obstacle_list, step_size, ccw):\n",
    "    obs, (_, _) = find_closest_obstacle(next_pos, obstacle_list, ccw)\n",
    "    point = geometry.Point(next_pos)\n",
    "    polygon = geometry.Polygon(obs.vertices)\n",
    "    if point.within(polygon) or point.touches(polygon):\n",
    "        return True\n",
    "    else:\n",
    "        return False\n",
    "\n",
    "def go_back_to_goal(next_pos, goal_pos, initial_robot_pos, start_to_goal_line, distance_to_hit_point, step_size, segment_not_line = False):\n",
    "    a, b, c = start_to_goal_line\n",
    "    dist_to_robot_goal_line = np.abs(a*next_pos[0] + b*next_pos[1] - c)/math.sqrt(a*a + b*b)\n",
    "    new_dist_to_goal = compute_distance_between_points(next_pos, goal_pos)\n",
    "    stop_following_obstacle = (dist_to_robot_goal_line <= step_size) and (new_dist_to_goal < distance_to_hit_point)\n",
    "\n",
    "    # This is to change if you consider goal line a line or a segment\n",
    "    # The behaviour will be different depending on the scenario\n",
    "    if segment_not_line:\n",
    "        start_goal = np.array(goal_pos) - np.array(initial_robot_pos)\n",
    "        start_current = np.array(next_pos) - np.array(initial_robot_pos)\n",
    "        within_segment = np.linalg.norm(start_goal) > (np.dot(start_current, start_goal) / np.linalg.norm(start_goal))\n",
    "        stop_following_obstacle = stop_following_obstacle and within_segment\n",
    "        \n",
    "    return stop_following_obstacle"
   ]
  },
  {
   "cell_type": "markdown",
   "metadata": {
    "cell_id": "00005-7fdd0483-8fb9-435e-99a6-6b789c3afba5",
    "deepnote_cell_height": 374.79998779296875,
    "deepnote_cell_type": "markdown"
   },
   "source": [
    "## Main Algorithm\n",
    "\n",
    "Below we show the implementation of the Bug2 Algorithm. This implementation is based on the pseudocode presented in the lecture\n",
    "\n",
    "![title](https://i.postimg.cc/zXq09b5t/bug2.png)"
   ]
  },
  {
   "cell_type": "code",
   "execution_count": null,
   "metadata": {
    "cell_id": "00006-4bbf5345-1bd6-4861-ac8f-3d519f75e46f",
    "deepnote_cell_height": 927,
    "deepnote_cell_type": "code",
    "deepnote_to_be_reexecuted": false,
    "execution_millis": 1,
    "execution_start": 1658110404368,
    "source_hash": "235fea27"
   },
   "outputs": [],
   "source": [
    "def bug2_algorithm(goal_pos,initial_robot_pos,robot_step_size,obstacles, ccw, tolerance = 0.01):\n",
    "    # Start algorithm\n",
    "    robot_path = [initial_robot_pos]\n",
    "    current_robot_pos = initial_robot_pos\n",
    "    robot_to_goal_line = compute_line_through_points(current_robot_pos, goal_pos)\n",
    "\n",
    "    # While goal not reached\n",
    "    while not has_reached_goal(current_robot_pos, goal_pos, robot_step_size, tolerance):\n",
    "\n",
    "        # Move towards goal\n",
    "        next_robot_pos = move_towards_goal(current_robot_pos, robot_to_goal_line, goal_pos, initial_robot_pos, robot_step_size)\n",
    "        if is_about_to_hit_obstacle(next_robot_pos, obstacles, robot_step_size, ccw):\n",
    "\n",
    "            # Go back to current position\n",
    "            next_robot_pos = np.copy(current_robot_pos)\n",
    "            # Compute distance from hit point to goal\n",
    "            hit_dist_to_goal = compute_distance_between_points(current_robot_pos, goal_pos)\n",
    "            while True:\n",
    "                # Find nearest_obstacle and start navigating around \n",
    "                closest_obs, (closest_obs_distance, obst_segment) = find_closest_obstacle(next_robot_pos,\n",
    "                                                                                        obstacles, ccw)\n",
    "                # Get direction along obstacle\n",
    "                direction_around_obstacle = closest_obs.compute_tangent_vector_to_polygon(next_robot_pos, \n",
    "                                                                                        obst_segment)\n",
    "                # Move along obstacle\n",
    "                next_robot_pos = next_robot_pos + robot_step_size * direction_around_obstacle\n",
    "                    \n",
    "                robot_path.append(next_robot_pos)\n",
    "\n",
    "                # Stop getting around obstacle when:\n",
    "                # * We are back to the original line\n",
    "                # * We are closer to the goal than when we started getting around obstacle.\n",
    "                # * Segment_not_line=True meaning the robot will only stop getting around the obstacle\n",
    "                #   when it hits the segment again, not the extended segment (a line).\n",
    "                stop_getting_around = go_back_to_goal(next_robot_pos, goal_pos, initial_robot_pos, robot_to_goal_line,\n",
    "                                                        hit_dist_to_goal, robot_step_size, segment_not_line=False)\n",
    "\n",
    "                if stop_getting_around:\n",
    "                    break\n",
    "\n",
    "        # Update current state and add to path\n",
    "        current_robot_pos = next_robot_pos\n",
    "        robot_path.append(current_robot_pos)\n",
    "        \n",
    "    path = np.array(robot_path)\n",
    "    return path"
   ]
  },
  {
   "cell_type": "markdown",
   "metadata": {
    "cell_id": "00007-de0276e6-1520-4cfb-8df2-733205589290",
    "deepnote_cell_height": 304.79998779296875,
    "deepnote_cell_type": "markdown"
   },
   "source": [
    "## Bug2 in Execution\n",
    "\n",
    "Let's see the Bug2 algorithm in execution. We consider three cases:\n",
    "\n",
    "- Two obstacles\n",
    "- Two obstacles with reversed start and goal locations (manually switch the definition of the start and goal locations)\n",
    "- A continuos obstacle (see picture in the FLUX question)\n",
    "\n",
    "**Interaction**:\n",
    "- Swap start and goal location as well as the obstacles. Re-run the previous cell and observe the paths generated for both cases. Is the robot moving on left or the right?"
   ]
  },
  {
   "cell_type": "code",
   "execution_count": null,
   "metadata": {
    "cell_id": "00008-85fbf4fd-0a75-4e6f-b0a5-4891cf57603b",
    "deepnote_cell_height": 729,
    "deepnote_cell_type": "code",
    "deepnote_to_be_reexecuted": false,
    "execution_millis": 238,
    "execution_start": 1658110409239,
    "source_hash": "239a9f61"
   },
   "outputs": [],
   "source": [
    "#Set parameters\n",
    "\n",
    "# Order A\n",
    "goal_pos = [20.0, 10.0]\n",
    "initial_robot_pos = [25.0, 40.0]\n",
    "\n",
    "# Order B\n",
    "# Uncomment the next two lines to see the bug algorithm in reverse order\n",
    "# goal_pos = [25.0, 40.0]\n",
    "# initial_robot_pos = [20.0, 10.0]\n",
    "\n",
    "# Robot Step Size and turning behaviour (counter clockwise (ccw) or clockwise)\n",
    "robot_step_size = 0.5\n",
    "ccw = True\n",
    "\n",
    "# Obstacle configuration\n",
    "obstacle1 = Rectangle(origin=np.array([10, 20]), width=30, height=5)\n",
    "obstacle2 = Polygon(vertices= np.array([[20, 35], [35, 35], [35, 50], [40, 50],\n",
    "                                       [40, 30], [20, 30]]))\n",
    "obstacles = [obstacle1, obstacle2]\n",
    "\n",
    "\n",
    "# ---------------------------------- Parameters associated to 2nd FLUX Question ----------------------\n",
    "# initial_robot_pos = [25.0, 5.0]\n",
    "# goal_pos = [25.0, 40.0]  \n",
    "# robot_step_size = 0.3\n",
    "\n",
    "# ccw = False\n",
    "\n",
    "# # Create obstacles\n",
    "# obstacle3 = Polygon(vertices= np.array([[10, 20], [35, 20], [35, 50], [15, 50],\n",
    "#                                        [15, 35], [28, 35], [28, 30], [10, 30],\n",
    "#                                        [10, 55], [40, 55], [40, 15], [10, 15]]))\n",
    "# obstacles = [obstacle3]\n",
    "# ----------------------------------------------------------------------------------------------------\n",
    "\n",
    "# The code below finds the path using bug2 algorithm and animate it\n",
    "path = bug2_algorithm(goal_pos,initial_robot_pos,robot_step_size,obstacles, ccw, tolerance = 0.02)\n",
    "steps = len(path)"
   ]
  },
  {
   "cell_type": "code",
   "execution_count": null,
   "metadata": {
    "cell_id": "00009-93684ca0-921b-42f7-a3ff-110c0176eb35",
    "deepnote_cell_height": 206,
    "deepnote_cell_type": "code",
    "deepnote_to_be_reexecuted": false,
    "execution_millis": 1976,
    "execution_start": 1658110542938,
    "output_cleared": true,
    "owner_user_id": "39e5588c-373b-434e-8bfa-8e48976ef92a",
    "source_hash": "67a5c282"
   },
   "outputs": [],
   "source": [
    "thickness = 0.5\n",
    "robot_size = 0.5\n",
    "vis.delete()\n",
    "scale = 60\n",
    "vis.Set2DView(scale, center = [lim for lim in [-30, 60, 60, 0]])\n",
    "print(\"animating ...\")\n",
    "animate_path_bug(vis,initial_robot_pos,goal_pos,path,obstacles, robot_size, thickness)\n",
    "\n",
    "import ipywidgets as widgets\n",
    "msg = widgets.HTML(f\"<big>Total of steps: {steps}</big>\")\n",
    "display(widgets.VBox([msg, vis.show_inline(height = 500)]))"
   ]
  }
 ],
 "metadata": {
  "deepnote": {},
  "deepnote_execution_queue": [],
  "deepnote_notebook_id": "bf2c754d-53c4-484e-8acc-20defb8bfc37",
  "kernelspec": {
   "display_name": "Python 3 (ipykernel)",
   "language": "python",
   "name": "python3"
  },
  "language_info": {
   "codemirror_mode": {
    "name": "ipython",
    "version": 3
   },
   "file_extension": ".py",
   "mimetype": "text/x-python",
   "name": "python",
   "nbconvert_exporter": "python",
   "pygments_lexer": "ipython3",
   "version": "3.8.10"
  },
  "vscode": {
   "interpreter": {
    "hash": "916dbcbb3f70747c44a77c7bcd40155683ae19c65e1c03b4aa3499c5328201f1"
   }
  }
 },
 "nbformat": 4,
 "nbformat_minor": 4
}
