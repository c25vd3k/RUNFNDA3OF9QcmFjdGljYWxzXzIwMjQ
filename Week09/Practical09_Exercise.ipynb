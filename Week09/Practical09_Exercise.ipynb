{
 "cells": [
  {
   "cell_type": "markdown",
   "metadata": {},
   "source": [
    "# <center>Practical 09: Articulated Robots - Kinematics</center>"
   ]
  },
  {
   "cell_type": "code",
   "execution_count": null,
   "metadata": {},
   "outputs": [],
   "source": [
    "%matplotlib widget\n",
    "\n",
    "import ipywidgets as widgets\n",
    "import matplotlib.pyplot as plt\n",
    "from mpl_toolkits.mplot3d import Axes3D\n",
    "import matplotlib.animation as animation\n",
    "\n",
    "import roboticstoolbox as rtb\n",
    "from roboticstoolbox import DHRobot, RevoluteDH\n",
    "from spatialmath import SE3, SO3\n",
    "from spatialmath.base.transforms3d import tr2delta\n",
    "import numpy as np\n",
    "import math\n",
    "import pickle\n",
    "\n",
    "from Practical10_Support.visualizer import *\n",
    "from IPython.display import display"
   ]
  },
  {
   "cell_type": "markdown",
   "metadata": {},
   "source": [
    "# 5. Coding Exercise (7pts) : Inverse Kinematics\n",
    "\n",
    "In this coding exercise, we will compute the sequence of joint configurations necessary to reach a desired end effector position using inverse kinematics. We will be using our 3dof manipulator\n",
    "\n",
    "You are tasked with completing the following steps:\n",
    "1. Compute end-effector transform using the current robot joint configuration ``robot.q`` by ``robot.fkine(.)``.\n",
    "2. Compute error between target and the current positions of the end effector. We will use this position error to generate a velocity $\\boldsymbol{\\dot{X}}$ for the end-effector.\n",
    "    - The attribute ``t`` of the variables ``current_ee`` and ``target`` gives you the position of the end effector and target in world coordinates\n",
    "3. Compute the Jacobian at the current joint configuration. Use the function ``robot.jacob0(.)`` to get the Jacobian.\n",
    "4. Compute the increment $\\boldsymbol{\\dot{q}}$. Since we are only considering the end effector position, we only need to compute the inverse of the linear velocity Jacobian. That is\n",
    "\n",
    "\\begin{equation}\n",
    "\\boldsymbol{\\dot{q}} = J_{v, 3x3}^{-1} \\boldsymbol{\\dot{X}}\n",
    "\\end{equation}\n",
    "\n",
    "5. Compute the new robot joint configuration using $\\boldsymbol{\\dot{q}}$, then update $\\boldsymbol{q}$ and add it to *trajectory* using ``apend()``.\n",
    "6. Update end-effector transform with updated joint positions.\n",
    "\n",
    "Hint: Counsult https://petercorke.github.io/robotics-toolbox-python/index.html for methods such as ``fkine(.)`` and ``jacob0(.)``"
   ]
  },
  {
   "cell_type": "code",
   "execution_count": null,
   "metadata": {},
   "outputs": [],
   "source": [
    "def inverse_kinematics(robot, target, max_iterations=100, delta=0.1):\n",
    "    \"\"\"\n",
    "    Compute sequence of joint configurations necessary to reach a desired end effector pose using inverse kinematics.\n",
    "    :param robot (DHRobot): Robot object for which inverse kinematics will be computed\n",
    "    :param target (SE3): Homogeneous transformation that describes desired position and orientation for the robot's end effector\n",
    "    :param max_iterations (int): Max. number of inverse kinematics iterations\n",
    "    :param delta (float): Update time step for integration\n",
    "    \n",
    "    :return List of 1xn arrays: Sequences joint configurations for robot with n joints\n",
    "    \"\"\"\n",
    "    \n",
    "    #TODO1: Get end-effector transform ------------\n",
    "    current_ee = 0\n",
    "    #ENDTODO --------------------------------------\n",
    "    \n",
    "    # Initialize counter and variable to cumulate joint trajectory\n",
    "    counter = 0\n",
    "    trajectory = [robot.q]\n",
    "    \n",
    "    \n",
    "    while counter < max_iterations:\n",
    "        # Get current q\n",
    "        q = robot.q\n",
    "        \n",
    "        #TODO 2: Get error between end-effector and target\n",
    "        x_dot = np.zeros((1,len(robot.q)))\n",
    "        # Hint: print(target.t), print(current_ee.t)\n",
    "        #ENDTODO --------------------------------------\n",
    "        \n",
    "        #TODO 3: Compute Jacobian\n",
    "        J = np.random.rand(6,len(robot.q))\n",
    "        #ENDTODO --------------------------------------\n",
    "        \n",
    "        #TODO 4: Compute increment\n",
    "        dq = np.zeros((1,len(robot.q)))\n",
    "        #ENDTODO --------------------------------------\n",
    "        \n",
    "        #TODO 5: Update q and append trajectory\n",
    "        q_new = np.zeros((1,len(robot.q)))\n",
    "        \n",
    "        \n",
    "        #ENDTODO --------------------------------------\n",
    "        \n",
    "        #TODO 6: Update end-effector transform\n",
    "        current_ee = 0\n",
    "        #ENDTODO --------------------------------------\n",
    "        \n",
    "        # Update counter\n",
    "        counter += 1\n",
    "    \n",
    "    return trajectory  \n",
    "    "
   ]
  },
  {
   "cell_type": "markdown",
   "metadata": {},
   "source": [
    "### Test your implementation\n",
    "\n",
    "For the target configuration ```SE3(1.37 , 0 , 1.37)``` and starting at configuration $\\theta_1=0$, $\\theta_2=90$, $\\theta_3=-90$: \n",
    "\n",
    "- **Visually**: observe how our 3d-manipulator's end effector slowly approches the target\n",
    "   - Hint: you could replace ``path_to_plot`` with ``seq_q`` in ``animate(.)`` for visulisation of example solution\n",
    "\n",
    "- **Numerically**: compare the sequence of joints angles given by your method with the one provided in the test file ``Support/data/IK_TestCase.pk``: "
   ]
  },
  {
   "cell_type": "code",
   "execution_count": null,
   "metadata": {},
   "outputs": [],
   "source": [
    "# Load test case and define variables\n",
    "with open('Practical10_Support/pickle/IK_TestCase.pk', 'rb') as read_from:\n",
    "    test_values = pickle.load(read_from)\n",
    "\n",
    "seq_q = test_values['q_sequence']\n",
    "\n",
    "# Initialising the robot parameters\n",
    "link1 = RevoluteDH(d=0.8, a=0, alpha=np.pi/2)\n",
    "link2 = RevoluteDH(d=0, a=0.8, alpha=0)\n",
    "link3 = RevoluteDH(d=0, a=0.8, alpha=0)\n",
    "my_bot = DHRobot([link1, link2, link3], name='3dof-manipulator')\n",
    "# Define inital joint configuration and target end-effector position\n",
    "my_bot.q = [0, np.pi/2, -np.pi/2]\n",
    "target = SE3(1.37 , 0 , 1.37)\n",
    "\n",
    "# Compute the sequence of joint configurations\n",
    "path_to_plot = inverse_kinematics(my_bot, target)\n",
    "\n",
    "# Visulisation\n",
    "fig = plt.figure()\n",
    "ax = fig.add_subplot(111, projection='3d')\n",
    "ax.set_xlim3d(-2.0, 2.0)\n",
    "ax.set_ylim3d(-2.0, 2.0)\n",
    "ax.set_zlim3d(0.0, 3.0)\n",
    "\n",
    "my_plot = RobotJupyterPlot(my_bot, ax, readonly=True)\n",
    "my_plot.draw()\n",
    "\n",
    "def init():\n",
    "    my_plot.draw()\n",
    "    return\n",
    "def animate(i):\n",
    "    # replace the following three occurence of path_to_plot by seq_q to visulise the solution\n",
    "    if i < len(path_to_plot):\n",
    "        my_bot.q = path_to_plot[i]\n",
    "        my_plot.draw()\n",
    "    return\n",
    "ani = animation.FuncAnimation(fig, animate, frames=len(path_to_plot), blit=False, interval=100, init_func=init,\n",
    "                              repeat=False)\n",
    "\n",
    "# Numerical comparison\n",
    "print('Is computed path close to solution? ',np.all(np.isclose(path_to_plot, seq_q)))"
   ]
  },
  {
   "cell_type": "markdown",
   "metadata": {},
   "source": [
    "# Grading\n",
    "\n",
    "We will give you publicly 2 out of 5 test cases that we run to mark you (we will release the rest when all the submissions are made). Since this exercise takes up 7 points, you will get 1.4 point for passing each scenario. The difference between scenarios is simply the `initial_q` and `target`. Meaning if you are not passing these following test cases, you will receive zero, if you pass all the following test cases, you will get at least 2.8 / 7 when I grade on my machine.\n",
    "\n",
    "**For your submission**: Make sure that you do not change the signature of the ``inverse_kinematics`` function. Verify that your code returns the expected output (i.e. list of 1 x n np.arrays)"
   ]
  },
  {
   "cell_type": "code",
   "execution_count": null,
   "metadata": {},
   "outputs": [],
   "source": [
    "import otter\n",
    "grader = otter.Notebook(tests_dir = \"Practical10_Support/tests\")\n",
    "grader.check_all()"
   ]
  }
 ],
 "metadata": {
  "kernelspec": {
   "display_name": "Python 3 (ipykernel)",
   "language": "python",
   "name": "python3"
  },
  "language_info": {
   "codemirror_mode": {
    "name": "ipython",
    "version": 3
   },
   "file_extension": ".py",
   "mimetype": "text/x-python",
   "name": "python",
   "nbconvert_exporter": "python",
   "pygments_lexer": "ipython3",
   "version": "3.8.10"
  }
 },
 "nbformat": 4,
 "nbformat_minor": 4
}
