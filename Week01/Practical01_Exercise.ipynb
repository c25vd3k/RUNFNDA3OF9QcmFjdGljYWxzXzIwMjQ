{
 "cells": [
  {
   "cell_type": "markdown",
   "metadata": {
    "cell_id": "e40e6300-3785-4903-ac55-3caac8c2ddeb",
    "deepnote_cell_height": 82,
    "deepnote_cell_type": "markdown"
   },
   "source": [
    "# Practical 1: Position and Orientation"
   ]
  },
  {
   "cell_type": "markdown",
   "metadata": {
    "cell_id": "00001-d8f79575-9803-4fe4-9730-d816a57b2b25",
    "deepnote_cell_height": 52.399993896484375,
    "deepnote_cell_type": "markdown"
   },
   "source": [
    "We first import the required dependencies"
   ]
  },
  {
   "cell_type": "code",
   "execution_count": null,
   "metadata": {
    "cell_id": "00002-9287e9b4-c6bd-4926-8afc-ec957c92198f",
    "deepnote_cell_height": 99,
    "deepnote_cell_type": "code",
    "deepnote_to_be_reexecuted": false,
    "execution_millis": 2,
    "execution_start": 1658446311078,
    "source_hash": "86a00679"
   },
   "outputs": [],
   "source": [
    "# import libraries we need\n",
    "import numpy as np"
   ]
  },
  {
   "cell_type": "markdown",
   "metadata": {
    "cell_id": "00003-0705874f-874e-4a5c-a639-34ece813b034",
    "deepnote_cell_height": 142.8000030517578,
    "deepnote_cell_type": "markdown"
   },
   "source": [
    "# Exercises\n",
    "\n",
    "Complete each one of the following programming exercises and submit your solution by the deadline specified on Moodle"
   ]
  },
  {
   "cell_type": "markdown",
   "metadata": {
    "cell_id": "00004-64caa392-6697-40bc-a798-e3a319e23b06",
    "deepnote_cell_height": 100.39999389648438,
    "deepnote_cell_type": "markdown"
   },
   "source": [
    "### Homogeneous transformation in 2D (3 points)\n",
    "\n",
    "Given an angle $\\theta$ and two displacements $d_x$ and $d_y$, code the corresponding homogeneous transformation matrix"
   ]
  },
  {
   "cell_type": "code",
   "execution_count": null,
   "metadata": {
    "cell_id": "00005-8c5123af-7447-498c-9d33-b864eac19fda",
    "deepnote_cell_height": 297,
    "deepnote_cell_type": "code",
    "deepnote_to_be_reexecuted": false,
    "editable": true,
    "execution_millis": 2,
    "execution_start": 1658446313295,
    "slideshow": {
     "slide_type": ""
    },
    "source_hash": "e4b078e8",
    "tags": []
   },
   "outputs": [],
   "source": [
    "def get_homogeneous_transform_2d(theta, dx, dy):\n",
    "    \n",
    "    cos_theta = np.cos(theta)\n",
    "    sin_theta = np.sin(theta)\n",
    "    \n",
    "    #TODO: construct the matrix tr -------------------------------\n",
    "    tr = np.eye(3)\n",
    "    #ENDTODO -----------------------------------------------------\n",
    "    \n",
    "    return tr"
   ]
  },
  {
   "cell_type": "markdown",
   "metadata": {
    "cell_id": "79d2927d42e34c17b8a3893f758e1574",
    "deepnote_cell_height": 97.19999694824219,
    "deepnote_cell_type": "markdown",
    "tags": []
   },
   "source": [
    "We now test the implemented 2D homogeneous transformation with $\\theta = \\pi/2$, $dx = 5$ and $dy = 5$. Note that we are calling `np.round` because of the numerical error, such as `np.cos(np.pi/2) = 6.123233995736766e-17` instead of being equal to 0."
   ]
  },
  {
   "cell_type": "code",
   "execution_count": null,
   "metadata": {
    "cell_id": "00006-a97d8223-f6a0-4c7a-b19a-de2bd7ed0373",
    "deepnote_cell_height": 157,
    "deepnote_cell_type": "code",
    "deepnote_output_heights": [
     60
    ],
    "deepnote_to_be_reexecuted": false,
    "editable": true,
    "execution_millis": 5,
    "execution_start": 1658446317558,
    "slideshow": {
     "slide_type": ""
    },
    "source_hash": "64caec28",
    "tags": []
   },
   "outputs": [],
   "source": [
    "np.round(get_homogeneous_transform_2d(np.pi/2, 5, 5), 2)"
   ]
  },
  {
   "cell_type": "markdown",
   "metadata": {
    "cell_id": "00007-fd9c320c-4a92-4120-b5d0-f6df3d5b0b5c",
    "deepnote_cell_height": 148.8000030517578,
    "deepnote_cell_type": "markdown",
    "tags": []
   },
   "source": [
    "Expected output: \n",
    "```\n",
    "array([[ 0., -1.,  5.],\n",
    "       [ 1.,  0.,  5.],\n",
    "       [ 0.,  0.,  1.]])\n",
    "```"
   ]
  },
  {
   "cell_type": "markdown",
   "metadata": {
    "cell_id": "00008-8ca2db3f-6946-4104-b233-49b998fbd076",
    "deepnote_cell_height": 1188.4000244140625,
    "deepnote_cell_type": "markdown",
    "editable": true,
    "slideshow": {
     "slide_type": ""
    },
    "tags": []
   },
   "source": [
    "### Composition of homogeneous transformations  (4 points)\n",
    "\n",
    "<!-- <img src=\"https://drive.google.com/uc?id=1dBXMNwNbwXsrnBRUwscGXHvh3OlvzPol\"> -->\n",
    "<img src=\"https://i.postimg.cc/v8fVnp0R/exercise-w1-images.png\" width=\"500\" height=\"500\">\n",
    "\n",
    "Suppose that the location of a robot (dashed frame) with respect to the world frame (solid frame) is given by the following sequence of transformations:\n",
    "- A rotation by an angle $\\alpha$ (in radians) about the current $z$-axis\n",
    "- A translation of $b$ units along the current $y$-axis\n",
    "- A rotation by an angle $\\beta$ (in radians) about the current $x$-axis\n",
    "\n",
    "The robot has a camera (dotted frame) whose location relative to the robot is given by:\n",
    "- A rotation by an angle $\\gamma$ (in radians) about the current $y$-axis\n",
    "- A translation of $c$ units along the current $x$-axis\n",
    "\n",
    "\n",
    "Given the coordinates of a points $p_c$ (light blue dot) in the camera frame, determine the coordinates of the same point in the robot's frame and the world frame. **Note that**: the image does not reflect the proper order of transformation, it is purely to visualize solid, dotted, and dashed line."
   ]
  },
  {
   "cell_type": "code",
   "execution_count": null,
   "metadata": {
    "cell_id": "00009-660e5c69-7a96-48f3-809b-c06bfebfb99b",
    "deepnote_cell_height": 1143,
    "deepnote_cell_type": "code",
    "deepnote_to_be_reexecuted": false,
    "editable": true,
    "execution_millis": 0,
    "execution_start": 1658446348914,
    "owner_user_id": "39e5588c-373b-434e-8bfa-8e48976ef92a",
    "slideshow": {
     "slide_type": ""
    },
    "source_hash": "2aaa44c7",
    "tags": []
   },
   "outputs": [],
   "source": [
    "def get_point_in_robot_frame(point_c=np.array([0,0,1]), gamma=0, disp_c=0):\n",
    "    \n",
    "    # Represent point_c in homogeneous form\n",
    "    homogeneous_point_c = np.hstack([point_c, 1])\n",
    "\n",
    "    #TODO: Define rot_cam_rob to encode rotation defined by gamma----\n",
    "    rot_cam_rob = np.eye(4)\n",
    "    #ENDTODO -------------------------------------------------------- \n",
    "    \n",
    "    #TODO: Define trl_cam_rob to encode translation by disp_c--------\n",
    "    trl_cam_rob = np.eye(4)\n",
    "    #ENDTODO --------------------------------------------------------\n",
    "    \n",
    "    #TODO: Define final_tr as the composed transformation from gamma and disp_c\n",
    "    final_tr = np.eye(4)\n",
    "    #ENDTODO\n",
    "    \n",
    "    # Apply transformation to determine coordinates of point_c in robot frame\n",
    "    point_r = np.matmul(final_tr, homogeneous_point_c)[:3]\n",
    "    \n",
    "    return point_r\n",
    "\n",
    "def get_point_in_world_frame(point_c=np.array([0,0,1]),\n",
    "                                alpha=0, beta=0, gamma=0, \n",
    "                                disp_c=0, disp_b=0):\n",
    "    \n",
    "    # Get point in robot frame\n",
    "    point_r = get_point_in_robot_frame(point_c, gamma, disp_c)\n",
    "    \n",
    "    # Represent point_r in homogeneous form\n",
    "    homogeneous_point_r = np.hstack([point_r, 1])\n",
    "    \n",
    "    #TODO: Define rot_z to encode rotation defined by alpha----------\n",
    "    rot_z = np.eye(4)\n",
    "    #ENDTODO --------------------------------------------------------\n",
    "\n",
    "    #TODO: Define trl_cam_world to encode translation by disp_b------\n",
    "    trl_rob_world = np.eye(4)\n",
    "    #ENDTODO --------------------------------------------------------\n",
    "    \n",
    "    #TODO: Define rot_x to encode rotation defined by beta-----------\n",
    "    rot_x = np.eye(4)\n",
    "    #ENDTODO --------------------------------------------------------\n",
    "    \n",
    "    #TODO: compose effect of alpha, beta, disp_b into final_tr-------\n",
    "    final_tr = np.eye(4)\n",
    "    #ENDTODO --------------------------------------------------------\n",
    "    \n",
    "    # Apply transformation to determine coordinates of point_r in world frame\n",
    "    point_w = np.matmul(final_tr, homogeneous_point_r)[:3]\n",
    "    \n",
    "    return point_w"
   ]
  },
  {
   "cell_type": "markdown",
   "metadata": {
    "cell_id": "c5c1af60d4ef46d694583bc440422a09",
    "deepnote_cell_height": 150.60000610351562,
    "deepnote_cell_type": "markdown",
    "editable": true,
    "slideshow": {
     "slide_type": ""
    },
    "tags": []
   },
   "source": [
    "We now test the implemented 3D homogeneous transformation with a point $p_c$ in camera frame, with coodinate $x = 0, y = 1, z = 3$. Where would that point be in: \n",
    "- robot frame?\n",
    "- world frame?"
   ]
  },
  {
   "cell_type": "code",
   "execution_count": null,
   "metadata": {
    "cell_id": "00010-ce34da4f-f4e7-4d78-9a96-fd0e175f5991",
    "deepnote_cell_height": 148.39999389648438,
    "deepnote_cell_type": "code",
    "deepnote_output_heights": [
     283
    ],
    "deepnote_to_be_reexecuted": false,
    "editable": true,
    "execution_millis": 5,
    "execution_start": 1658446354957,
    "slideshow": {
     "slide_type": ""
    },
    "source_hash": "ac4811ba",
    "tags": []
   },
   "outputs": [],
   "source": [
    "print(np.round(get_point_in_robot_frame(point_c=np.array([0, 1, 3]), gamma=0, disp_c=2)))\n",
    "print(np.round(get_point_in_world_frame(point_c=np.array([0, 1, 3]), gamma=0, disp_c=2, alpha=0, beta=0, disp_b=-1)))"
   ]
  },
  {
   "cell_type": "markdown",
   "metadata": {
    "cell_id": "00011-38e0d61e-11e5-49d6-82dc-b54e5148e8d0",
    "deepnote_cell_height": 128,
    "deepnote_cell_type": "markdown",
    "editable": true,
    "slideshow": {
     "slide_type": ""
    },
    "tags": []
   },
   "source": [
    "Expected output:\n",
    "```\n",
    "[2. 1. 3.]\n",
    "[2. 0. 3.]\n",
    "```"
   ]
  },
  {
   "cell_type": "markdown",
   "metadata": {
    "editable": true,
    "slideshow": {
     "slide_type": ""
    },
    "tags": []
   },
   "source": [
    "# Grading\n",
    "\n",
    "Test cases for giving marks:\n",
    "- `q1`: Assess the `get_homogeneous_transform_2d` function (3 points)\n",
    "- `q2_robot`: Assess the `get_point_in_robot_frame` function (2 points)\n",
    "- `q2_world`: Assess the `get_point_in_world_frame` function (2 points)"
   ]
  },
  {
   "cell_type": "code",
   "execution_count": null,
   "metadata": {
    "editable": true,
    "slideshow": {
     "slide_type": ""
    },
    "tags": []
   },
   "outputs": [],
   "source": [
    "import otter\n",
    "grader = otter.Notebook(tests_dir = \"Practical01_Support/tests\")\n",
    "grader.check_all()"
   ]
  }
 ],
 "metadata": {
  "deepnote": {},
  "deepnote_execution_queue": [],
  "deepnote_notebook_id": "73d670c7-023b-4c79-8737-6b237dcecc46",
  "kernelspec": {
   "display_name": "Python 3 (ipykernel)",
   "language": "python",
   "name": "python3"
  },
  "language_info": {
   "codemirror_mode": {
    "name": "ipython",
    "version": 3
   },
   "file_extension": ".py",
   "mimetype": "text/x-python",
   "name": "python",
   "nbconvert_exporter": "python",
   "pygments_lexer": "ipython3",
   "version": "3.8.10"
  }
 },
 "nbformat": 4,
 "nbformat_minor": 4
}
