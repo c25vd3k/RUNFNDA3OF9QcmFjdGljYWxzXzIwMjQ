{
 "cells": [
  {
   "cell_type": "code",
   "execution_count": null,
   "id": "ce21e42a-5dd1-4389-a193-ca19362bea4b",
   "metadata": {},
   "outputs": [],
   "source": [
    "%matplotlib widget\n",
    "import sys\n",
    "import os \n",
    "import pickle\n",
    "\n",
    "from ece4078.localization.dynamic_system_import import import_based_on_version\n",
    "import_based_on_version(globals(), locals())\n",
    "from ece4078.localization.Renderer import *\n",
    "\n",
    "sys.path.insert(0, os.path.abspath('Practical03_Support'))\n",
    "from Measurements import *"
   ]
  },
  {
   "cell_type": "markdown",
   "id": "92eac830-c0a5-4551-9b45-f631988892f3",
   "metadata": {},
   "source": [
    "# Coding Exercise: SLAM EKF (7 points)\n",
    "\n",
    "Given the EKF theory covered during the lecture, we will try to implement it here. Please consult the lecture slide for useful resources.\n",
    "\n",
    "The following cell will try to import data that ran on actual robot.\n",
    "\n",
    "- `measurements_replay` is a Python list of `MarkerMeasurement` being replayed. `MarkerMeasurement` is a data-only class that has properties: `position`, `tag` containing the tag number, and `covariance` containing the uncertainty that one specific measurement.\n",
    "- `control_replay` is a Python list of control signal being replayed. \n",
    "- `lm` stands for landmark\n",
    "- `P` is initialization for $\\Sigma_k$\n",
    "- `sigma_drive` is the uncertainty in the left and right wheel, not the uncertainty of the motion model $\\Sigma_Q$\n",
    "- `sigma_measure` is the uncertainty in one particular landmark, a collection of different `sigma_measure` will make up the measurement uncertainty $\\Sigma_R$\n",
    "- `state` is a list that contains all the state we have estimated so far.\n",
    "- `robot_cov` is a list that contains all the covariance we have estimated so far."
   ]
  },
  {
   "cell_type": "code",
   "execution_count": null,
   "id": "158d773d-015d-4878-b096-0c8765f0fa9e",
   "metadata": {},
   "outputs": [],
   "source": [
    "with open('Practical03_Support/data/data_ekf.dat', \"rb\") as f:\n",
    "    data = pickle.load(f)\n",
    "\n",
    "# Setup our robot\n",
    "bot = PenguinPi(0.14, 0.01)\n",
    "gt_state = data['state']\n",
    "control_replay = data['control']\n",
    "measurements_replay = data['measurement']\n",
    "# Here are our true marker positions\n",
    "markers = data['markers']\n",
    "\n",
    "# Set the initial state of the robot from the data\n",
    "init_x, init_y, init_theta = gt_state[0,:]\n",
    "bot.set_state(x=init_x, y=init_y, theta=init_theta)\n",
    "\n",
    "#----------------------------------PARAMETERS--------------------------------------\n",
    "# Initial incertainty of our robot\n",
    "P = np.eye(3)*100\n",
    "# Uncertainty in our left and right wheel motors\n",
    "sigma_drive = np.array([10,10])\n",
    "# Uncertainty in measurement\n",
    "sigma_measure = np.eye(2)*100\n",
    "#-----------------------------------------------------------------------------------\n",
    "\n",
    "# Apply our control to the robot and visualize\n",
    "# Our timestamp is always 0.2\n",
    "dt = 0.2\n",
    "# Here we will save our state variable \n",
    "state = np.zeros((control_replay.shape[0],3))\n",
    "# Here we save the robot covariances\n",
    "robot_cov = np.zeros(((control_replay.shape[0],3,3)))"
   ]
  },
  {
   "cell_type": "markdown",
   "id": "0d6f98ea-718a-415b-94d5-33fb26d4ad06",
   "metadata": {},
   "source": [
    "First, we will do the predict step:\n",
    "- In here `bot.drive` will evaluate the next state using the motion model depending on the `drive_signal`, `x_bar` is $\\bar{\\mu}_k$ in the lecture slide\n",
    "- `derivative_drive` and `covariance_drive` will obtain `A` and `Q` which is $A$ and $\\Sigma_Q$ in the lecture slide\n",
    "- Your job is to find $\\bar{\\Sigma}_k$ which is variable `P` in this code."
   ]
  },
  {
   "cell_type": "code",
   "execution_count": null,
   "id": "78d2fac4-5427-463c-b03b-da1876a9d9e5",
   "metadata": {},
   "outputs": [],
   "source": [
    "def predict_step(bot, prev_P, drive_signal):\n",
    "     # 1. Predict state\n",
    "    bot.drive(drive_signal)\n",
    "    x_bar = np.array(bot.get_state()).reshape((3,1))\n",
    "    # 2.. Linearize about prediction\n",
    "    A = bot.derivative_drive(drive_signal)\n",
    "    # 3. Get covariance\n",
    "    Q = bot.covariance_drive(drive_signal)\n",
    "    # 4. Predict covariance\n",
    "    \n",
    "    #TODO: Complete this step -----------------------------------------------------\n",
    "    P = \n",
    "    #ENDTODO ----------------------------------------------------------------------\n",
    "\n",
    "    return P, x_bar"
   ]
  },
  {
   "cell_type": "markdown",
   "id": "f67b6746-ed7a-426b-9d26-d0bd38282573",
   "metadata": {},
   "source": [
    "We want to construct $\\Sigma_R$. $Sigma_R$ is a square matrix of $2n\\times2n$ where n is the number of measurements. It is $2n$ because there is 2 degrees of freedom for each measurement: $x$ and $y$ position of the landmark.\n",
    "\n",
    "The structure of $\\Sigma_R$ is\n",
    "$$\n",
    "\\Sigma_R = \\begin{bmatrix}\n",
    "                \\Sigma_{m_1} & 0 & 0 &0\\\\\n",
    "                0 & \\Sigma_{m_2} & 0 &0\\\\\n",
    "                0 & 0 & \\ddots &0\\\\\n",
    "                0 & 0 & 0 & \\Sigma_{m_n}\\\\\n",
    "            \\end{bmatrix}\n",
    "$$\n",
    "where $\\Sigma_{m_i}$ is the covarinance matrix of the $i^{th}$ measurement of the current time step.\n",
    "\n",
    "In this code, `z` is $z_k$ and `R` is $\\Sigma_R$ in the lecture slide."
   ]
  },
  {
   "cell_type": "code",
   "execution_count": null,
   "id": "4ea5bdc9-73eb-4a47-b84e-f4e911d37f7f",
   "metadata": {
    "editable": true,
    "slideshow": {
     "slide_type": ""
    },
    "tags": []
   },
   "outputs": [],
   "source": [
    "def construct_R(measurements):\n",
    "    # Stack measurements and set covariance\n",
    "    z = np.concatenate([lm.position.reshape(-1,1) for lm in measurements], axis=0)\n",
    "    \n",
    "    #TODO: Complete this step -----------------------------------------------------\n",
    "    R = \n",
    "    #ENDTODO ----------------------------------------------------------------------\n",
    "\n",
    "    return z, R"
   ]
  },
  {
   "cell_type": "markdown",
   "id": "c5d5f434-8f86-421b-ba4e-8d81a8f7220f",
   "metadata": {},
   "source": [
    "- `bot.derivative_measure` and `bot.measure` will obtain `C` and `z_hat` which is $C$ and $\\mathbf{h}(\\bar{\\mu}_k)$ in the lecture slide\n",
    "- You have to construct the Kalman gain `K`\n",
    "- Then calculate the `corrected_x` which is $\\mu_k$ in the lecture slide\n",
    "- Finally, update `corrected_P` which is $\\Sigma_k$ in the lecture slide"
   ]
  },
  {
   "cell_type": "code",
   "execution_count": null,
   "id": "7cd0642a-5656-4365-826c-58626f4f3c36",
   "metadata": {
    "editable": true,
    "slideshow": {
     "slide_type": ""
    },
    "tags": []
   },
   "outputs": [],
   "source": [
    "def update_step(bot, P, R, z, x_bar, tags):\n",
    "    # 1. Get location of measurements given robot's current state\n",
    "    z_hat = bot.measure(markers, tags)\n",
    "    z_hat = z_hat.reshape((-1,1),order=\"F\")\n",
    "    # 2. Linearize measurement about robot's current state\n",
    "    C = bot.derivative_measure(markers, tags)\n",
    "    \n",
    "    #TODO: Complete this step -----------------------------------------------------\n",
    "    # 3. Compute Kalman Gain\n",
    "    K = \n",
    "    # 4. Correct state\n",
    "    corrected_x = \n",
    "    # 5. Correct covariance\n",
    "    corrected_P = \n",
    "    #ENDTODO ----------------------------------------------------------------------\n",
    "    \n",
    "    return corrected_x, corrected_P"
   ]
  },
  {
   "cell_type": "markdown",
   "id": "cbf4c9e3-7472-4559-bfa5-27e9f4b23be3",
   "metadata": {},
   "source": [
    "Now put everything together in a loop.\n",
    "\n",
    "We will loop over each element of the replay, indexed by `c` in this loop.\n",
    "\n",
    "Note that at the end of the loop, `state` will gather whatever is in variable named `x`, and `robot_cov` will gather whatever is in variable named `P`. Your grade will depend on the value of `state` and `robot_cov`. "
   ]
  },
  {
   "cell_type": "code",
   "execution_count": null,
   "id": "e458c82f-e80c-42bf-928e-909cecfb4f9a",
   "metadata": {},
   "outputs": [],
   "source": [
    "for c in range(control_replay.shape[0]):\n",
    "    # Set the measurement covariances\n",
    "    for mes in measurements_replay[c]:\n",
    "        mes.covariance = sigma_measure \n",
    "    \n",
    "    drive_signal = DriveMeasurement(control_replay[c,0],control_replay[c,1],dt,sigma_drive[0],sigma_drive[1])\n",
    "    tags = [lm.tag for lm in measurements_replay[c]]\n",
    "    \n",
    "    #TODO: Complete this step -----------------------------------------------------\n",
    "    # Prediction Step\n",
    "    _, _ = predict_step(bot, _, drive_signal)\n",
    "    # Construct measurement index list\n",
    "    _, _ = construct_R(_)\n",
    "    # Update step\n",
    "    x, P = update_step(bot, _, _, _, _, tags)\n",
    "    #ENDTODO ----------------------------------------------------------------------\n",
    "    \n",
    "    # Set the estimated as next state.\n",
    "    bot.set_state(x[0], x[1], x[2])\n",
    "    state[c,:] = np.array(bot.get_state()).flatten()\n",
    "    # Drive and predict\n",
    "    robot_cov[c,:,:] = P[0:3,0:3]\n",
    "    \n",
    "#Create a visualizer and visualize our state\n",
    "rend = Renderer.Instance()\n",
    "rend.initialize(state,measurements_replay, true_state = gt_state,robot_cov=robot_cov, add_aruco=True)"
   ]
  },
  {
   "cell_type": "markdown",
   "id": "a087754c-93e2-4a4c-b413-4af2b3858258",
   "metadata": {},
   "source": [
    "# Grading\n",
    "\n",
    "Test cases for giving marks:\n",
    "- q1: assess the `predict_step` function (2 points)\n",
    "- q2: assess the `construct_R` function (2 points)\n",
    "- q3: assess the `update_step` function (2 points)\n",
    "- q4: assess the `state` and `robot_cov` variables (1 point)"
   ]
  },
  {
   "cell_type": "code",
   "execution_count": null,
   "id": "f59b6649-7e16-4eb1-846f-02c064ad55f3",
   "metadata": {},
   "outputs": [],
   "source": [
    "import otter\n",
    "from ece4078.Utility import pretty_print_otter\n",
    "grader = otter.Notebook(tests_dir = \"Practical03_Support/tests\")\n",
    "\n",
    "grader.check_all()\n",
    "# If the test cases gives you too much messages and it's hard to keep track of, uncomment the following line\n",
    "# pretty_print_otter(grader.check_all())"
   ]
  }
 ],
 "metadata": {
  "kernelspec": {
   "display_name": "Python 3 (ipykernel)",
   "language": "python",
   "name": "python3"
  },
  "language_info": {
   "codemirror_mode": {
    "name": "ipython",
    "version": 3
   },
   "file_extension": ".py",
   "mimetype": "text/x-python",
   "name": "python",
   "nbconvert_exporter": "python",
   "pygments_lexer": "ipython3",
   "version": "3.8.10"
  }
 },
 "nbformat": 4,
 "nbformat_minor": 5
}
