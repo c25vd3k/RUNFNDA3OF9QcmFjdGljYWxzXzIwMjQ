{
 "cells": [
  {
   "cell_type": "markdown",
   "metadata": {
    "id": "gIwkMy9WnrRn"
   },
   "source": [
    "# <center> Introduction to Reinforcement Learning</center>"
   ]
  },
  {
   "cell_type": "markdown",
   "metadata": {
    "id": "FY8sb3WLnrT6"
   },
   "source": [
    "#### Import dependencies"
   ]
  },
  {
   "cell_type": "code",
   "execution_count": null,
   "metadata": {
    "id": "xHhQP_yrnrUA"
   },
   "outputs": [],
   "source": [
    "import matplotlib.pyplot as plt\n",
    "import matplotlib.animation as animation\n",
    "import numpy as np\n",
    "import pickle\n",
    "\n",
    "import sys\n",
    "import os\n",
    "\n",
    "from Practical07_Support.gym_simple_gridworlds.helper import *\n",
    "from Practical07_Support.gym_simple_gridworlds.envs.grid_env import GridEnv\n",
    "from Practical07_Support.gym_simple_gridworlds.envs.grid_2dplot import *\n",
    "\n",
    "\n",
    "from IPython.display import display, HTML"
   ]
  },
  {
   "cell_type": "markdown",
   "metadata": {
    "id": "aTi7z5gbnrWG"
   },
   "source": [
    "# Activity 1. Elements of an MDP (Grid World Example)\n",
    "\n",
    "Recall the grid in which our robot lives\n",
    "\n",
    "![GridWorldExample.png](https://i.postimg.cc/5tMM5vqf/Grid-World-Example.png)\n",
    "\n",
    "- The states $s \\in \\mathcal{S}$ correspond to locations in the grid. Each location has also a cell index associated to it, e.g., cell index 4 is associated to location (row=1,col=0)\n",
    "- The robot can move up, down, left, or right. Actions correpond to unit increments or decrements in the specified direction.\n",
    "    - Up : (-1,0)\n",
    "    - Down: (1,0)\n",
    "    - Left: (0,-1)\n",
    "    - Right: (0, 1)\n",
    "- Each action is represented by a number. Action (Up) is represented by 0, (Down) by 1, (Left) by 2 and, finally, (Right) by 3. No actions are available at a terminal state"
   ]
  },
  {
   "cell_type": "markdown",
   "metadata": {
    "id": "cjXoXqOnnrXQ"
   },
   "source": [
    "## Create Environment and Explore its Attributes\n",
    "\n",
    "The noise parameter corresponds to the probability of a change of direction when an action is taken (e.g., going left/right when agent decides to move up/down)"
   ]
  },
  {
   "cell_type": "code",
   "execution_count": null,
   "metadata": {
    "id": "iv58f67EnrXZ"
   },
   "outputs": [],
   "source": [
    "# Create a Grid World instance\n",
    "grid_world = GridEnv(gamma=0.9, noise=0.2, living_reward=-0.04)"
   ]
  },
  {
   "cell_type": "markdown",
   "metadata": {
    "id": "zzBYFM7WnrXb"
   },
   "source": [
    "### State and Action Spaces\n",
    "\n",
    "Let's take a look at the state and action spaces of our environment"
   ]
  },
  {
   "cell_type": "code",
   "execution_count": null,
   "metadata": {
    "id": "BJhhxR-HnrXw"
   },
   "outputs": [],
   "source": [
    "# State (or observation) space\n",
    "print(grid_world.observation_space)\n",
    "print(grid_world.get_states())\n",
    "print()\n",
    "\n",
    "# Action space\n",
    "print(grid_world.action_space)\n",
    "print(grid_world.get_actions())"
   ]
  },
  {
   "cell_type": "markdown",
   "metadata": {
    "id": "nwWFnDIKnrX8"
   },
   "source": [
    "### Transition Function\n",
    "\n",
    "Let's take a look at the current state transition function. Some things to keep in mind regarding the transition function:\n",
    "\n",
    "1. Given that $\\mathcal{T}: \\mathcal{S} \\times \\mathcal{A} \\times \\mathcal{S} \\rightarrow \\mathbb{R}$, the ``state_transitions`` attribute of the class ``GridEnv`` corresponds to a 3-Dimensional numpy array of size $11\\times4\\times11$.\n",
    "2. With a noise attribute set to 0.2, at state 5, if the agent chooses to move up, it will end up at:\n",
    "    - state 2 with $80\\%$ probability,\n",
    "    - state 6 with $10\\%$ probability, or\n",
    "    - state 5 with $10\\%$ probability"
   ]
  },
  {
   "cell_type": "code",
   "execution_count": null,
   "metadata": {
    "id": "cGOVNUHQnrYE"
   },
   "outputs": [],
   "source": [
    "# at state 5 the agent takes action 0 (going up)\n",
    "print(grid_world.state_transitions[5,0])"
   ]
  },
  {
   "cell_type": "markdown",
   "metadata": {
    "id": "dG5N7pTgnrYH"
   },
   "source": [
    "### Living Reward and Reward Function\n",
    "\n",
    "Let's now take a quick look at the living reward (i.e., running cost) and reward function $\\mathcal{R}: \\mathcal{S} \\times \\mathcal{A} \\rightarrow \\mathbb{R}$.\n",
    "\n",
    "1. Living reward corresponds to the attribute ``living_rewards`` of the class ``GridEnv`` and is represented as an 1-Dimensional numpy array\n",
    "2. The reward function corresponds to the attribute ``rewards`` of the class ``GridEnv`` and is also represented as a 2-Dimensional numpy array of size $11\\times4$"
   ]
  },
  {
   "cell_type": "code",
   "execution_count": null,
   "metadata": {
    "id": "mw7kWhW8nrYH"
   },
   "outputs": [],
   "source": [
    "# Living rewards\n",
    "print(\"Living rewards for all states:\\n{}\\n\".format(grid_world.immediate_rewards))\n",
    "\n",
    "# Reward function, i.e., the expected reward for taking action a at state s\n",
    "print(\"Reward function for all state-action pairs:\\n{}\\n\".format(grid_world.rewards))\n",
    "print(\"The expected reward at state 5 if agent chooses to move right is: {}\".format(grid_world.rewards[5,3]))\n",
    "\n",
    "# To do (Flux Quiz 2): what is the expected reward at state 2 if the agent chooses to move right?"
   ]
  },
  {
   "cell_type": "markdown",
   "metadata": {
    "id": "Puxe1hrynrYK"
   },
   "source": [
    "### Policy\n",
    "\n",
    "Let's see the path and total reward of an agent moving on our grid world according to the following policy $\\pi$\n",
    "\n",
    "![example_policy.png](https://i.postimg.cc/pLjHnkj0/example-policy.png)"
   ]
  },
  {
   "cell_type": "code",
   "execution_count": null,
   "metadata": {
    "id": "pkCYTTSSnrYM"
   },
   "outputs": [],
   "source": [
    "# We represent this policy as a 2-Dimensional numpy array\n",
    "policy_matrix = np.array([[3,      3,  3,  -1],\n",
    "                          [0, np.NaN,  0,  -1],\n",
    "                          [0,      2,  0,   2]])"
   ]
  },
  {
   "cell_type": "code",
   "execution_count": null,
   "metadata": {
    "id": "uhXS8_t2nrYO"
   },
   "outputs": [],
   "source": [
    "print(grid_world.grid)"
   ]
  },
  {
   "cell_type": "markdown",
   "metadata": {
    "id": "Qw1wo7-0nrYV"
   },
   "source": [
    "Let's now apply this policy and observe the agent's behavior (blue dot in the figure shown below)."
   ]
  },
  {
   "cell_type": "code",
   "execution_count": null,
   "metadata": {
    "id": "DZ84dyGjnrYd"
   },
   "outputs": [],
   "source": [
    "# Create a Grid World instance\n",
    "grid_world = GridEnv(gamma=0.9, noise=0.2, living_reward=-0.04)\n",
    "s_x, s_y = get_state_to_plot(grid_world)\n",
    "\n",
    "# We can visualize our grid world using the render() function\n",
    "fig, ax = grid_world.render()\n",
    "agent, = ax.plot([], [], 'o', color='b', linewidth=6)\n",
    "reward_text = ax.text(0.02, 0.95, '', transform=ax.transAxes)\n",
    "\n",
    "done = False\n",
    "cumulative_reward = 0\n",
    "cur_state = grid_world.cur_state\n",
    "path_to_plot = []\n",
    "\n",
    "while not done:\n",
    "    _, cur_reward, done, _ = grid_world.step(int(policy_matrix[cur_state[0], cur_state[1]]))\n",
    "    cur_state = grid_world.cur_state\n",
    "    n_x, n_y = get_state_to_plot(grid_world)\n",
    "    cumulative_reward += cur_reward\n",
    "    path_to_plot.append([cumulative_reward, n_x, n_y])\n",
    "\n",
    "def init():\n",
    "    agent.set_data([s_x + 0.5], [s_y + 0.5])\n",
    "    reward_text.set_text('')\n",
    "    return agent, reward_text\n",
    "\n",
    "def animate(i):\n",
    "    if i < len(path_to_plot):\n",
    "        r, n_x, n_y = path_to_plot[i]\n",
    "        agent.set_data([n_x + 0.5], [n_y + 0.5])\n",
    "        reward_text.set_text('Cumulative reward: %.2f' % r)\n",
    "    return agent, reward_text\n",
    "\n",
    "ani = animation.FuncAnimation(fig, animate, frames=len(path_to_plot), blit=False, interval=500, init_func=init,\n",
    "                              repeat=False)\n",
    "\n",
    "plt.close('all') \n",
    "display(HTML(f\"<div align=\\\"center\\\">{ani.to_jshtml()}</div>\"))"
   ]
  },
  {
   "cell_type": "markdown",
   "metadata": {
    "id": "rRjfoz-_nrYs"
   },
   "source": [
    "# Activity 2. Iterative Policy Evaluation\n",
    "\n",
    "Recall the definition of the iterative policy evaluation algorithm\n",
    "\n",
    "![IterativePolicyEvaluation.png](https://i.postimg.cc/MGbJ9TdV/Iterative-Policy-Evaluation.png)\n",
    "\n",
    "Let's now compute the value function of the same policy $\\pi$ \n",
    "\n",
    "![example_policy.png](https://i.postimg.cc/pLjHnkj0/example-policy.png)\n",
    "\n",
    "We consider a grid world environment with the following attributes:\n",
    "- Discount factor $\\gamma = 0.9$ (class attribute ``gamma=0.9``)\n",
    "- Stochastic transition matrix (class attribute ``noise=0.2``)\n",
    "- A non-zero living cost and big rewards are obtained at terminal states (class attribute ``living_reward=-0.04``)\n",
    "\n",
    "We have defined the helper function ``encode_policy()`` to encode the policy $\\pi$ shown in the image above. The return variable ``policy_pi`` is a dictionary of dictionaries, where each element corresponds to the probability of selecting an action $a$ at a given state $s$\n",
    "\n",
    "Keep in mind that each action is represented by a number. Action (Up) is represented by 0, (Down) by 1, (Left) by 2 and, finally, (Right) by 3."
   ]
  },
  {
   "cell_type": "code",
   "execution_count": null,
   "metadata": {
    "id": "GJvFXg6_nrYt"
   },
   "outputs": [],
   "source": [
    "grid_world = GridEnv(gamma=0.9, noise=0.2, living_reward=-0.04)\n",
    "policy_pi = encode_policy(grid_world)\n",
    "\n",
    "print(\"Action probabilities at state 0 are:\\n{}\".format(policy_pi[0]))"
   ]
  },
  {
   "cell_type": "markdown",
   "metadata": {
    "id": "_NBGVIs7nrYv"
   },
   "source": [
    "Given the policy $\\pi$, let's now compute its state-value function using iterative policy evaluation.\n",
    "\n",
    "**TODO** (Flux Quiz 3): \n",
    "Complete the computation of the value function update for each state. We have decomposed this computation into 2 steps:\n",
    "\n",
    "1. Compute the discounted sum of state values of all successor states: $v_{\\text{discounted}} = \\gamma\\sum_{s' \\in \\mathcal{S}}\\mathcal{T}(s,a,s')v(s')$ for each action\n",
    "\n",
    "\n",
    "2. Compute expectation over all actions: $\\sum_{a \\in \\mathcal{A}}\\pi(a|s)(\\mathcal{R}(s,a) + v_{\\text{discounted}})$ \n",
    "\n",
    "\n",
    "**Keep in Mind**: Correspondance between the mathematical notation and implemented code\n",
    "\n",
    "|                         |                                                    |                 |\n",
    "| ----------------------- | -------------------------------------------------- | --------------- |\n",
    "|                         | **Variable/Attribute**                             | **Type**        | \n",
    "| $\\gamma$                | `grid_world.gamma`                                 | `float`         |\n",
    "| $\\mathcal{T}(s, a, s')$ | `grid_world.state_transitions[idx_s, idx_a, idx_s]`| `numpy` 3d-array| \n",
    "| $\\mathcal{R}(s, a)$     | `grid_world.rewards[idx_s, idx_a]`                 | `numpy` 2d-array| \n",
    "| $\\pi(a\\vert s)$         | `policy_pi[idx_s][idx_a]`                          | `dict` of `dict`| \n",
    "| $v_\\pi(s)$              | `v[idx_s]`                                         | `dict`          | \n"
   ]
  },
  {
   "cell_type": "code",
   "execution_count": null,
   "metadata": {
    "id": "W0mO2xNDnrYy"
   },
   "outputs": [],
   "source": [
    "def policy_evaluation(grid_env, policy, plot=False, threshold=0.00001):\n",
    "    \n",
    "    \"\"\"\n",
    "    This function computes the value function for a policy pi in a given environment grid_env.\n",
    "    \n",
    "    :param grid_env (GridEnv): MDP environment\n",
    "    :param policy (dict - stochastic form): Policy being evaluated\n",
    "    :return: (dict) State-values for all non-terminal states\n",
    "    \"\"\"\n",
    "        \n",
    "    # Obtain list of all states in environment\n",
    "    v = {s: 0.0 for s in grid_env.get_states()}\n",
    "    theta = threshold\n",
    "    delta = 1000\n",
    "\n",
    "    while delta > theta:\n",
    "        delta = 0.0\n",
    "        # For all states\n",
    "        for s in v.keys():\n",
    "\n",
    "            old_v = v[s]\n",
    "            new_v = 0\n",
    "\n",
    "            # For all actions\n",
    "            for a, probability_a in policy[s].items():\n",
    "                discounted_v = 0\n",
    "\n",
    "                # For all states that are reachable from s with action a\n",
    "                for s_next in grid_env.get_states():\n",
    "                    #TODO 1: Compute discounted sum of state values for all successor states ---------\n",
    "                    discounted_v += 0\n",
    "                    #ENDTODO -------------------------------------------------------------------------\n",
    "                    \n",
    "                #TODO 2: Compute expectation over all actions ------------------------------------\n",
    "                new_v += 0\n",
    "                #ENDTODO -------------------------------------------------------------------------\n",
    "\n",
    "            v[s] = new_v\n",
    "            delta = max(delta, np.abs(old_v - new_v))\n",
    "\n",
    "    if plot:\n",
    "        plot_value_function(grid_env, v)\n",
    "        \n",
    "    return v\n",
    "        \n",
    "        \n",
    "# Call the policy evalution function\n",
    "v = policy_evaluation(grid_world, policy_pi, plot=True)\n",
    "print(v)"
   ]
  },
  {
   "cell_type": "markdown",
   "metadata": {},
   "source": [
    "# Activity 3. Value Functions"
   ]
  },
  {
   "cell_type": "markdown",
   "metadata": {},
   "source": [
    "Using the policy state-value function we just computed as a starting point, let's now compute the corresponding action-value function for the given policy $\\pi$.\n",
    "\n",
    "For this exercise keep in mind the Bellman equation that relates the state-value and action-value functions\n",
    "\n",
    "<p style=\"text-align: center;font-size:1.5em;\">$q_{\\pi}(s, a) = \\mathcal{R}(s,a) + \\gamma \\sum_{s' \\in \\mathcal{S}}\\mathcal{T}(s, a, s')v_{\\pi}(s')$</p>\n",
    "\n",
    "**TODO** (Flux Quiz 4): Complete the computation of the action-value function."
   ]
  },
  {
   "cell_type": "code",
   "execution_count": null,
   "metadata": {},
   "outputs": [],
   "source": [
    "q = np.zeros((len(grid_world.get_states()), len(grid_world.get_actions())))\n",
    "\n",
    "for s in grid_world.get_states():\n",
    "    for a in grid_world.get_actions():\n",
    "        q_temp = 0\n",
    "        for s_next in grid_world.get_states():\n",
    "            #TODO 3: Compute the discounted sum of value states for all future states ---------\n",
    "            q_temp += 0\n",
    "            #ENDTODO -------------------------------------------------------------------------\n",
    "        \n",
    "        #TODO 4: Add the immediate rewards ------------------------------------\n",
    "        q[s][a] = 0\n",
    "        #ENDTODO ---------------------------------------------------------------------\n",
    "\n",
    "_ = plot_action_value_function(grid_world, q)"
   ]
  },
  {
   "cell_type": "markdown",
   "metadata": {
    "id": "jBbKytprnrZU"
   },
   "source": [
    "# Activity 4. Policy Iteration"
   ]
  },
  {
   "cell_type": "markdown",
   "metadata": {
    "id": "k1lUgbwxnrZW"
   },
   "source": [
    "Recall the definition of the policy iteration algorithm\n",
    "\n",
    "![PolicyIteration.png](https://i.postimg.cc/26kRMDKJ/Policy-Iteration.png)\n",
    "\n",
    "Starting with a random policy, let's find the optimal policy for a grid world environment with attributes:\n",
    "\n",
    "We consider a grid world environment with the following attributes:\n",
    "- Discount factor $\\gamma = 0.9$ (class attribute ``gamma=0.9``)\n",
    "- Stochastic transition matrix (class attribute ``noise=0.2``)\n",
    "- Rewards are only obtained at terminal states (class attribute ``living_reward=-0.04``)\n",
    "\n",
    "We make use of some helper methods:\n",
    "- ``one_step_look_ahead(grid_env, state, value_function)`` in ``Support/gym_simple_gridworlds/helper.py``, this method computes the action-value function for a state $s$ given the state-value function $v$. This corresponds to $\\mathcal{R}(s,a) + \\gamma\\sum_{s' \\in \\mathcal{S}}\\mathcal{T}(s,a,s')v_\\pi(s')\\, \\forall \\, a \\in \\mathcal{A}$\n",
    "\n",
    "\n",
    "- ``update_policy(grid_world, policy, value_function)`` in ``Support/gym_simple_gridworlds/helper.py``, this method updates the current policy $\\pi$ given the state-value function $v$ by taking the action $a$ with the highest action-value. \n",
    "\n",
    "\n",
    "- ``define_random_policy(grid_env)`` in ``Support/gym_simple_gridworlds/helper.py``, this method generates a random policy for environment ``grid_env``"
   ]
  },
  {
   "cell_type": "markdown",
   "metadata": {
    "id": "Gkbgnn5znrZb"
   },
   "source": [
    "Let's now define the policy iteration core algorithm.\n",
    "\n",
    "**TODO** (Flux Quiz 5): Complete the main steps of the policy iteration algoritm.\n",
    "- Use ``policy_evaluation(.)`` in ``Support/gym_simple_gridworlds/helper.py`` to compute the state-value function of a given policy\n",
    "- Use ``update_policy(.)`` in ``Support/gym_simple_gridworlds/helper.py`` to obtain an updated policy"
   ]
  },
  {
   "cell_type": "code",
   "execution_count": null,
   "metadata": {
    "id": "2LoyRYOZnrZh"
   },
   "outputs": [],
   "source": [
    "def policy_iteration(grid_env, policy, plot=False):\n",
    "    \"\"\"\n",
    "    This function iteratively updates a given policy pi for a given environment grid_env until convergence to optimal policy\n",
    "    \n",
    "    :param grid_env (GridEnv): MDP environment\n",
    "    :param policy (matrix from): Deteministic policy being updated\n",
    "    :return: (dict) State-values for all non-terminal states\n",
    "    \"\"\"\n",
    "    prev_policy = np.zeros(policy.shape)\n",
    "    \n",
    "    while not np.all(np.equal(prev_policy, policy)):\n",
    "        \n",
    "        # Encode policy. This policy representation is needed for policy evaluation\n",
    "        encoded_policy = encode_policy(grid_env, policy)\n",
    "        # Set prev_policy to current policy\n",
    "        prev_policy = policy.copy()\n",
    "        \n",
    "        #TODO 5: Complete the remaining steps---------------------------------------------\n",
    "        # 1. Evaluate the given policy (policy_evaluation expects an\n",
    "        #    mdp and the enconded_policy as arguments)\n",
    "        \n",
    "        # 2. Update policy using helper function update_policy\n",
    "        \n",
    "        #ENDTODO -------------------------------------------------------------------------\n",
    "        \n",
    "    if plot:\n",
    "        plot_policy(grid_env, policy)\n",
    "    \n",
    "    return policy\n"
   ]
  },
  {
   "cell_type": "code",
   "execution_count": null,
   "metadata": {
    "id": "S0xgCYfAnrZj"
   },
   "outputs": [],
   "source": [
    "# Create a grid world mdp\n",
    "grid_world = GridEnv(gamma=0.9, noise=0.2, living_reward=-0.04)\n",
    "\n",
    "# Generate an initial random policy\n",
    "initial_policy = define_random_policy(grid_world)\n",
    "\n",
    "# Compute optimal policy using policy iteration\n",
    "optimal_policy = policy_iteration(grid_world, initial_policy, plot=True)"
   ]
  }
 ],
 "metadata": {
  "accelerator": "GPU",
  "colab": {
   "collapsed_sections": [],
   "name": "Practical07_IntroRL.ipynb",
   "provenance": []
  },
  "kernelspec": {
   "display_name": "Python 3 (ipykernel)",
   "language": "python",
   "name": "python3"
  },
  "language_info": {
   "codemirror_mode": {
    "name": "ipython",
    "version": 3
   },
   "file_extension": ".py",
   "mimetype": "text/x-python",
   "name": "python",
   "nbconvert_exporter": "python",
   "pygments_lexer": "ipython3",
   "version": "3.8.10"
  },
  "vscode": {
   "interpreter": {
    "hash": "916dbcbb3f70747c44a77c7bcd40155683ae19c65e1c03b4aa3499c5328201f1"
   }
  }
 },
 "nbformat": 4,
 "nbformat_minor": 4
}
