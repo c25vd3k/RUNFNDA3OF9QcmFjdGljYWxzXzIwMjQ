{
 "cells": [
  {
   "cell_type": "markdown",
   "metadata": {},
   "source": [
    "# <center>Practical 07: Articulated Robots - Kinematics</center>"
   ]
  },
  {
   "cell_type": "code",
   "execution_count": null,
   "metadata": {},
   "outputs": [],
   "source": [
    "import roboticstoolbox as rtb\n",
    "from roboticstoolbox import DHRobot, RevoluteDH\n",
    "from spatialmath import SE3\n",
    "import numpy as np\n",
    "\n",
    "from Practical07_Support.visualizer import *\n",
    "from ece4078.plotly_viz import InteractiveApp\n",
    "from IPython.display import IFrame\n",
    "\n",
    "app = InteractiveApp(port = 8080)\n",
    "app.run()"
   ]
  },
  {
   "cell_type": "markdown",
   "metadata": {},
   "source": [
    "# 1. 2-Dof Planar Manipulator"
   ]
  },
  {
   "cell_type": "markdown",
   "metadata": {},
   "source": [
    "Let us start with the definition of simple 2-dof planar manipulator as shown in the image below\n",
    "\n",
    "<img src=\"https://i.postimg.cc/Fz8x2FCc/2-link-manipulator.png\" width=\"400\" height=\"400\" align=\"center\">\n",
    "\n",
    "**Interaction**\n",
    "- Change the value of each slider and see how the configuration of our articulated robot changes\n",
    "- The homogeneous transform shown in the plot indicates the orientation and location of the end effector in the world frame\n",
    "- Note: sometimes the interaction would not refresh after slider changes. You will not see any errors. Unfortunately, you will need to shut down the notebook and re-run everything until it becomes responsive."
   ]
  },
  {
   "cell_type": "code",
   "execution_count": null,
   "metadata": {},
   "outputs": [],
   "source": [
    "bot = rtb.models.DH.Planar2()\n",
    "my_plot = RobotPlotlyPlot(bot, joint_size = 12, triad_length = 0.5)\n",
    "app.register_demo(\"rotate2D\", bot2D_viz)\n",
    "app.use_demo(\"rotate2D\", my_plot = my_plot)\n",
    "IFrame(app.display_url, height = 500, width = \"100%\")"
   ]
  },
  {
   "cell_type": "markdown",
   "metadata": {},
   "source": [
    "# 2. Forward Kinematics\n",
    "\n",
    "How can we determine the position and orientation of the end effector $H_{0n}$ given the joint configuration $[\\theta_1, \\theta_2]$ of our robot?\n",
    "\n",
    "From the lecture slides, recall $T = \\begin{bmatrix} R & \\boldsymbol{d} \\\\ \\boldsymbol{0} & 1 \\end{bmatrix}$. In our current model, the relative homogeneous transformation of each link is defined as \n",
    "\n",
    "\\begin{equation*}\n",
    "T_i(q_i) = \\begin{bmatrix} R_z(q_i) & \\boldsymbol{0}^T \\\\ \\boldsymbol{0} & 1 \\end{bmatrix} *\\begin{bmatrix} I(3) & [L_i, 0, 0]^T \\\\ \\boldsymbol{0} & 1 \\end{bmatrix} ,\n",
    "\\end{equation*}\n",
    "\n",
    "where $q_i = \\theta_i$ and $L_i = 1$ corresponds to the length of each link and $I(3)$ indicates an identity matrix of dimensions 3x3.\n",
    "\n",
    "To determine the position and orientation of the end effector we need to combine all transformations according to $H_{0n} = T_1(q_1)T_2(q_2)\\dots T_n(q_n)$\n",
    "\n",
    "Let's now see how we can do this. We will use the objects ``SE3.Rx(angle)``,  ``SE3.Ry(angle)``, ``SE3.Rz(angle)`` to define pure rotations, and ``SE3(x,y,z)`` to define pure translations. \n",
    "\n",
    "**TODO**:\n",
    "1. Given $[\\theta_1, \\theta_2]$ and $[l1, l2]$ build the homogenous transformation of each link\n",
    "2. Combine all transformation to obtain $H_{0n}$. Homogeneous matrices can be combined using the ``*`` operator, i.e., ``T1 = SE3.Rz() * SE3(1, 0, 0)``"
   ]
  },
  {
   "cell_type": "code",
   "execution_count": null,
   "metadata": {},
   "outputs": [],
   "source": [
    "def compute_forward_kinematics_2dof_manipulator(robot):\n",
    "    # Get current joint angles\n",
    "    thetas = robot.q\n",
    "    link_lengths = robot.a\n",
    "    \n",
    "    # Define end effector transformation\n",
    "    H_n0 = SE3()\n",
    "    \n",
    "    #TODO 1: Compute transformation for first link ------------------\n",
    "    T_01 = np.eye(4)\n",
    "    #ENDTODO --------------------------------------------------------\n",
    "    \n",
    "    #TODO 2: Compute transformation for second link ----------------\n",
    "    T_12 = np.eye(4)\n",
    "    #ENDTODO --------------------------------------------------------\n",
    "    \n",
    "    #TODO 3: Combine all transformations ---------------------------\n",
    "    H_0n = np.eye(4)\n",
    "    #ENDTODO --------------------------------------------------------\n",
    "    \n",
    "    return H_0n"
   ]
  },
  {
   "cell_type": "markdown",
   "metadata": {},
   "source": [
    "### Check our solution\n",
    "\n",
    "First, let's compare our method to the output provided by the robotics toolbox library (``fkine(.)`` method)"
   ]
  },
  {
   "cell_type": "code",
   "execution_count": null,
   "metadata": {},
   "outputs": [],
   "source": [
    "# Assign a configuration to the robot\n",
    "bot.q = [np.deg2rad(90), np.deg2rad(45)]\n",
    "\n",
    "# Print solution as given by the library\n",
    "print(\"Solution from library:\\n{}\".format(bot.fkine(bot.q)))\n",
    "\n",
    "# Print solution as given by our method\n",
    "print(\"Solution from our method:\\n{}\".format(compute_forward_kinematics_2dof_manipulator(bot)))\n"
   ]
  },
  {
   "cell_type": "markdown",
   "metadata": {},
   "source": [
    "Next, let's visualize the manipulator and compare our output with the matrix shown in the figure below"
   ]
  },
  {
   "cell_type": "code",
   "execution_count": null,
   "metadata": {},
   "outputs": [],
   "source": [
    "bot = rtb.models.DH.Planar2()\n",
    "my_plot = RobotPlotlyPlot(bot, joint_size = 12, triad_length = 0.5)\n",
    "app.register_demo(\"rotate2D\", bot2D_viz)\n",
    "app.use_demo(\"rotate2D\", my_plot = my_plot)\n",
    "IFrame(app.display_url, height = 500, width = \"100%\")"
   ]
  },
  {
   "cell_type": "markdown",
   "metadata": {},
   "source": [
    "# 3. DH Pameters\n",
    "\n",
    "Let us now look at the definition of a robotic manipulator using the Denavit-Hartenberg convention. \n",
    "\n",
    "Given a robot object, we can display its parameters by using ``print(bot)``. Let's see the DH parameters of our 2-dof manipulator"
   ]
  },
  {
   "cell_type": "code",
   "execution_count": null,
   "metadata": {},
   "outputs": [],
   "source": [
    "print(bot)"
   ]
  },
  {
   "cell_type": "markdown",
   "metadata": {},
   "source": [
    "## 3.1 DH Parameters of a 3-dof manipulator\n",
    "\n",
    "Given the image below, define the DH parameters for a 3-dof manipulator\n",
    "\n",
    "<img src=\"https://i.postimg.cc/PfRKLKfx/DH-3-link.png\" width=\"400\" height=\"400\" align=\"center\">\n",
    "\n",
    "\n",
    "This manipulator consists of 3 revolute joints. To define a revolute joint, we use the class ``RevoluteDH`` with attributes:\n",
    "- ``d``: link offset\n",
    "- ``a``: link length\n",
    "- ``alpha``: link twist\n",
    "\n",
    "Similarly, to define a manipulator, we instantiate an object of type ``DHRobot`` and specify as parameter a list with all ``RevoluteDH`` joints and a name.\n",
    "\n",
    "**TODO**: Specify the DH parameters for the 3dof manipulator shown above. ``RevoluteDH`` expects angles to be specified in radians. You can use ``np.deg2rad()`` to convert degrees to radians"
   ]
  },
  {
   "cell_type": "code",
   "execution_count": null,
   "metadata": {},
   "outputs": [],
   "source": [
    "#TODO: Define d, a, and alpha for all links ---------------------\n",
    "link1 = RevoluteDH(d=0, a=0, alpha=0)\n",
    "link2 = RevoluteDH(d=0, a=0, alpha=0)\n",
    "link3 = RevoluteDH(d=0, a=0, alpha=0)\n",
    "#ENDTODO --------------------------------------------------------\n",
    "\n",
    "my_bot = DHRobot([link1, link2, link3], name='3dof-manipulator')\n",
    "print(my_bot)"
   ]
  },
  {
   "cell_type": "markdown",
   "metadata": {},
   "source": [
    "Let us visualize our 3dof manipulator"
   ]
  },
  {
   "cell_type": "code",
   "execution_count": null,
   "metadata": {},
   "outputs": [],
   "source": [
    "viz = RobotPlotlyPlot(my_bot, triad_length = 0.4)\n",
    "app.register_demo(\"rotate3D\", bot3D_viz)\n",
    "app.use_demo(\"rotate3D\", viz = viz)\n",
    "IFrame(app.display_url, height = 700, width = \"70%\")"
   ]
  },
  {
   "cell_type": "code",
   "execution_count": null,
   "metadata": {},
   "outputs": [],
   "source": [
    "my_bot.q=[0, 45, -45]\n",
    "\n",
    "my_bot.q=[np.pi/6, np.deg2rad(4), -np.pi/10]\n",
    "my_bot.fkine(my_bot.q)"
   ]
  },
  {
   "cell_type": "markdown",
   "metadata": {},
   "source": [
    "# 4. Jacobian Matrix 3-Dof Manipulator\n",
    "\n",
    "The Jacobian matrix of a manipulator is defined as\n",
    "\n",
    "\\begin{equation}\n",
    "J = \n",
    "\\begin{bmatrix}\n",
    "\\boldsymbol{z}^0_0 \\times \\boldsymbol{d}^0_{0e} & \\cdots & {z}^0_{n-1} \\times \\boldsymbol{d}^0_{n-1e}\\\\\n",
    "\\boldsymbol{z}^0_0 & \\dots & \\boldsymbol{z}^0_{n-1}\n",
    "\\end{bmatrix}\n",
    "\\end{equation}\n",
    "\n",
    "where $\\boldsymbol{z}^0_{i-1}$ corresponds to the axis of the $i$-th joint and $\\boldsymbol{d}^0_{i-1e}$ defines the vector pointing from the $i$-th joint to the end-effector; both given in world coordinates.\n",
    "\n",
    "Thus, in order to compute the Jacobian for our 3dof manipulator:\n",
    "1. Compute forward kinematics for all links (we will use ``fkine_all(.)``) to do so\n",
    "2. Find $\\boldsymbol{z}^0_{i-1}$ and $\\boldsymbol{d}^0_{i-1e}$ for all joints (recall that all joints in our manipulator are revolute joints along the z-axis)\n",
    "    - To access the axis of a joint, use T.a\n",
    "    - To access the position of a joint, use T.t\n",
    "3. Form the Jacobian according to the equation provided above\n",
    "\n",
    "**TODO**: Complete the missing steps\n",
    "1. Compute the vector pointing from the $i$-th joint to the end-effector $\\boldsymbol{d}^0_{i-1e}$\n",
    "2. Compute the cross product between the axis of the $i$-th joint $\\boldsymbol{z}^0_{i-1}$ and $\\boldsymbol{d}^0_{i-1e}$. Use the method ``np.cross(.)`` to do so."
   ]
  },
  {
   "cell_type": "code",
   "execution_count": null,
   "metadata": {},
   "outputs": [],
   "source": [
    "def compute_jacobian(robot):\n",
    "    \"\"\"\n",
    "    Compute jacobian matrix for a given robot configuration\n",
    "    :param robot (DHRobot): Robot object for which Jacobian will be computed\n",
    "    :return 6xn matrix: Jacobian matrix of dimensions 6 x num joints in robot\n",
    "    \"\"\"\n",
    "    \n",
    "    #Create an empty Jacobian matrix\n",
    "    J = np.zeros((6, robot.n))\n",
    "        \n",
    "    # Compute forward dynamics\n",
    "    T_all = robot.fkine_all()  \n",
    "    \n",
    "    #Get end-effector position in world coordinates\n",
    "    end_effector_position = robot.fkine(robot.q).t\n",
    "    \n",
    "    for i in range(robot.n):\n",
    "        # Get joint axis (z-axis in our case)\n",
    "        joint_axis = T_all[i].a\n",
    "        # Get joint's position\n",
    "        joint_position = T_all[i].t\n",
    "        \n",
    "        #TODO 1: Compute vector pointing from joint to end effector -----\n",
    "        joint_to_end_effector = np.zeros((1,3))\n",
    "        #ENDTODO --------------------------------------------------------\n",
    "        \n",
    "        #TODO 2: Compute cross product between joint_axis and d_ie ------\n",
    "        cross_v = np.zeros((1,3))\n",
    "        #ENDTODO --------------------------------------------------------\n",
    "        \n",
    "        # Assign entries to Jacobian matrix        \n",
    "        J[:3,i] = cross_v\n",
    "        J[3:, i] = joint_axis\n",
    "        \n",
    "    return J"
   ]
  },
  {
   "cell_type": "markdown",
   "metadata": {},
   "source": [
    "Let's test our code"
   ]
  },
  {
   "cell_type": "code",
   "execution_count": null,
   "metadata": {},
   "outputs": [],
   "source": [
    "# Reset robot to default configuration\n",
    "my_bot.q = [0, 0, 0]\n",
    "\n",
    "# Let's compute the end effector linear and angular velocities when q = [0, 0 , 0] and dq = [0, 1, 0]\n",
    "J = compute_jacobian(my_bot) \n",
    "dx = J @ np.array([0,1,0])\n",
    "\n",
    "# Print Jacobian and velocity\n",
    "print(\"The Jacobian matrix is:\\n{}\\n\".format(np.round(J, 6)))\n",
    "print(\"The end effector linear and angular velocites:\\n{}\".format(np.round(dx,4)))"
   ]
  }
 ],
 "metadata": {
  "kernelspec": {
   "display_name": "Python 3 (ipykernel)",
   "language": "python",
   "name": "python3"
  },
  "language_info": {
   "codemirror_mode": {
    "name": "ipython",
    "version": 3
   },
   "file_extension": ".py",
   "mimetype": "text/x-python",
   "name": "python",
   "nbconvert_exporter": "python",
   "pygments_lexer": "ipython3",
   "version": "3.8.10"
  }
 },
 "nbformat": 4,
 "nbformat_minor": 4
}
